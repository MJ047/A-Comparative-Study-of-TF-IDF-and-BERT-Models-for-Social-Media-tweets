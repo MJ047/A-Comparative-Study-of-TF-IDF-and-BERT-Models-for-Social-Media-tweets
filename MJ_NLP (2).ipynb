{
  "cells": [
    {
      "cell_type": "markdown",
      "source": [
        "# Introduction\n"
      ],
      "metadata": {
        "id": "lkT29HeHjgQV"
      }
    },
    {
      "cell_type": "code",
      "source": [],
      "metadata": {
        "id": "RsZA-0m_jrGu"
      },
      "execution_count": null,
      "outputs": []
    },
    {
      "cell_type": "code",
      "execution_count": null,
      "metadata": {
        "id": "KTCI3XuhN-Pm"
      },
      "outputs": [],
      "source": [
        "import pandas as pd\n",
        "import numpy as np\n",
        "import re\n",
        "import nltk\n",
        "from nltk.tokenize import word_tokenize\n",
        "from nltk.corpus import stopwords\n",
        "from nltk.stem import WordNetLemmatizer\n",
        "from sklearn.feature_extraction.text import TfidfVectorizer\n",
        "from sklearn.model_selection import train_test_split, GridSearchCV\n",
        "from sklearn.pipeline import Pipeline\n",
        "from sklearn.linear_model import LogisticRegression\n",
        "from sklearn.svm import SVC\n",
        "from sklearn.ensemble import RandomForestClassifier\n",
        "from sklearn.naive_bayes import MultinomialNB\n",
        "from sklearn.metrics import classification_report, f1_score, confusion_matrix\n",
        "import torch\n",
        "from transformers import BertTokenizer, BertModel\n",
        "import joblib\n",
        "import os\n",
        "import matplotlib.pyplot as plt\n",
        "import seaborn as sns\n",
        "from wordcloud import WordCloud"
      ]
    },
    {
      "cell_type": "markdown",
      "source": [],
      "metadata": {
        "id": "9W1f5CLmi5pl"
      }
    },
    {
      "cell_type": "markdown",
      "source": [
        "# NLP Libraries\n",
        "\n"
      ],
      "metadata": {
        "id": "J2NYhHsuPJvy"
      }
    },
    {
      "cell_type": "code",
      "execution_count": null,
      "metadata": {
        "colab": {
          "base_uri": "https://localhost:8080/"
        },
        "id": "DG2gtv8LOCaD",
        "outputId": "0a77c2a9-7eac-43fa-fe42-a63f899aa209"
      },
      "outputs": [
        {
          "output_type": "stream",
          "name": "stderr",
          "text": [
            "[nltk_data] Downloading package punkt to /root/nltk_data...\n",
            "[nltk_data]   Package punkt is already up-to-date!\n",
            "[nltk_data] Downloading package stopwords to /root/nltk_data...\n",
            "[nltk_data]   Package stopwords is already up-to-date!\n",
            "[nltk_data] Downloading package wordnet to /root/nltk_data...\n",
            "[nltk_data]   Package wordnet is already up-to-date!\n",
            "[nltk_data] Downloading package punkt_tab to /root/nltk_data...\n",
            "[nltk_data]   Package punkt_tab is already up-to-date!\n"
          ]
        },
        {
          "output_type": "execute_result",
          "data": {
            "text/plain": [
              "True"
            ]
          },
          "metadata": {},
          "execution_count": 19
        }
      ],
      "source": [
        "nltk.download('punkt')\n",
        "nltk.download('stopwords')\n",
        "nltk.download('wordnet')\n",
        "nltk.download('punkt_tab')"
      ]
    },
    {
      "cell_type": "markdown",
      "source": [
        "## Unzippig Data"
      ],
      "metadata": {
        "id": "fL4xoDOpi82y"
      }
    },
    {
      "cell_type": "code",
      "execution_count": null,
      "metadata": {
        "colab": {
          "base_uri": "https://localhost:8080/"
        },
        "id": "GKO2r2AWOPlr",
        "outputId": "af0ab091-abb9-43b4-ec9a-1d2a254f46a2"
      },
      "outputs": [
        {
          "output_type": "stream",
          "name": "stdout",
          "text": [
            "Unzipping the data...\n"
          ]
        }
      ],
      "source": [
        "print(\"Unzipping the data...\")\n",
        "!unzip -q OLIDv1.0.zip -d ./olid_data"
      ]
    },
    {
      "cell_type": "code",
      "source": [],
      "metadata": {
        "id": "H8x2v5uHjdVS"
      },
      "execution_count": null,
      "outputs": []
    },
    {
      "cell_type": "markdown",
      "source": [],
      "metadata": {
        "id": "LiI6qj3pjeLY"
      }
    },
    {
      "cell_type": "markdown",
      "source": [
        "#Loading the DataSet and Reading the Data"
      ],
      "metadata": {
        "id": "rNbefxTIPpsC"
      }
    },
    {
      "cell_type": "code",
      "source": [
        "import pandas as pd\n",
        "\n",
        "df = pd.read_csv(\"/content/olid_data/olid-training-v1.0.tsv\", sep=\"\\t\")\n",
        "print(df.head())"
      ],
      "metadata": {
        "colab": {
          "base_uri": "https://localhost:8080/"
        },
        "id": "oisK7fnEyS4m",
        "outputId": "85384b0c-724c-4fe9-9320-a98721f758fe"
      },
      "execution_count": null,
      "outputs": [
        {
          "output_type": "stream",
          "name": "stdout",
          "text": [
            "      id                                              tweet subtask_a  \\\n",
            "0  86426  @USER She should ask a few native Americans wh...       OFF   \n",
            "1  90194  @USER @USER Go home you’re drunk!!! @USER #MAG...       OFF   \n",
            "2  16820  Amazon is investigating Chinese employees who ...       NOT   \n",
            "3  62688  @USER Someone should'veTaken\" this piece of sh...       OFF   \n",
            "4  43605  @USER @USER Obama wanted liberals &amp; illega...       NOT   \n",
            "\n",
            "  subtask_b subtask_c  \n",
            "0       UNT       NaN  \n",
            "1       TIN       IND  \n",
            "2       NaN       NaN  \n",
            "3       UNT       NaN  \n",
            "4       NaN       NaN  \n"
          ]
        }
      ]
    },
    {
      "cell_type": "code",
      "execution_count": null,
      "metadata": {
        "id": "ZixfFxIiBV6U",
        "colab": {
          "base_uri": "https://localhost:8080/"
        },
        "outputId": "27fa7301-61ad-483b-db91-7876c42a4bcf"
      },
      "outputs": [
        {
          "output_type": "stream",
          "name": "stdout",
          "text": [
            "Mounted at /content/drive\n"
          ]
        }
      ],
      "source": [
        "from google.colab import drive\n",
        "drive.mount('/content/drive')"
      ]
    },
    {
      "cell_type": "markdown",
      "source": [
        "#IsNull"
      ],
      "metadata": {
        "id": "ZBpvQag9P-Yg"
      }
    },
    {
      "cell_type": "code",
      "execution_count": null,
      "metadata": {
        "colab": {
          "base_uri": "https://localhost:8080/"
        },
        "id": "9CPSNHXEOVRE",
        "outputId": "4cee7bbc-c158-4e15-f52f-efa6d5bbe40c"
      },
      "outputs": [
        {
          "output_type": "stream",
          "name": "stdout",
          "text": [
            "\n",
            "Null counts:\n",
            "id              0\n",
            "tweet           0\n",
            "subtask_a       0\n",
            "subtask_b    8840\n",
            "subtask_c    9364\n",
            "dtype: int64\n",
            "\n",
            "Subtask A labels:\n",
            " subtask_a\n",
            "NOT    8840\n",
            "OFF    4400\n",
            "Name: count, dtype: int64\n",
            "Subtask B labels:\n",
            " subtask_b\n",
            "TIN    3876\n",
            "UNT     524\n",
            "Name: count, dtype: int64\n",
            "Subtask C labels:\n",
            " subtask_c\n",
            "IND    2407\n",
            "GRP    1074\n",
            "OTH     395\n",
            "Name: count, dtype: int64\n"
          ]
        }
      ],
      "source": [
        "print(\"\\nNull counts:\")\n",
        "print(df.isnull().sum())\n",
        "print(\"\\nSubtask A labels:\\n\", df['subtask_a'].value_counts())\n",
        "print(\"Subtask B labels:\\n\", df['subtask_b'].value_counts())#TIN = Targeted Insult,UNT=Untargeted\n",
        "print(\"Subtask C labels:\\n\", df['subtask_c'].value_counts())"
      ]
    },
    {
      "cell_type": "markdown",
      "source": [],
      "metadata": {
        "id": "cFsbUAEyQDZM"
      }
    },
    {
      "cell_type": "markdown",
      "source": [
        "# Here we are preprocessing the data and cleaning up deal with nulls"
      ],
      "metadata": {
        "id": "AYhXjxrtQEPf"
      }
    },
    {
      "cell_type": "code",
      "execution_count": null,
      "metadata": {
        "id": "s0YwIrsEOfx8"
      },
      "outputs": [],
      "source": [
        "# Step 3: Preprocessing—clean it up, deal with nulls\n",
        "stop_words = set(stopwords.words('english'))\n",
        "lemmatizer = WordNetLemmatizer()"
      ]
    },
    {
      "cell_type": "markdown",
      "source": [
        "# Defining preprocess_tweet and clean the tweets which helps to understand the correct meaning of the tweet"
      ],
      "metadata": {
        "id": "A75brBoXQUR0"
      }
    },
    {
      "cell_type": "code",
      "execution_count": null,
      "metadata": {
        "id": "tNctYN5aPHth"
      },
      "outputs": [],
      "source": [
        "def preprocess_tweet(tweet):\n",
        "    \"\"\"Clean the tweet, handle nulls, keep some punctuation for vibe.\"\"\"\n",
        "    if pd.isnull(tweet):  # If it’s NaN, just give a blank string\n",
        "        return \"\"\n",
        "    tweet = str(tweet).lower()  # Make sure it’s a string, lowercase it\n",
        "    tweet = re.sub(r'@user', '', tweet)  # No @USER clutter\n",
        "    tweet = re.sub(r'http\\S+|www.\\S+', '', tweet)  # URLs? Outta here\n",
        "    tweet = re.sub(r'([!?])\\1+', r'\\1', tweet)  # !!!! → !\n",
        "\n",
        "    tokens = word_tokenize(tweet)\n",
        "    clean_tokens = []\n",
        "    for tok in tokens:\n",
        "        # Keep letters and ! or ?, skip the rest\n",
        "        if not tok.isalpha() and tok not in ['!', '?']:\n",
        "            continue\n",
        "        if tok in stop_words and tok not in ['not', 'no']:  # Keep negation\n",
        "            continue\n",
        "        clean_tokens.append(lemmatizer.lemmatize(tok))\n",
        "\n",
        "    return \" \".join(clean_tokens) if clean_tokens else \"\"  # Empty if no tokens"
      ]
    },
    {
      "cell_type": "code",
      "execution_count": null,
      "metadata": {
        "colab": {
          "base_uri": "https://localhost:8080/"
        },
        "id": "5l1_peiQPovj",
        "outputId": "1bba8b7f-9349-44d8-bfad-c8990b2a5905"
      },
      "outputs": [
        {
          "output_type": "stream",
          "name": "stdout",
          "text": [
            "\n",
            "Cleaning up the tweets...\n"
          ]
        }
      ],
      "source": [
        "print(\"\\nCleaning up the tweets...\")\n",
        "df['clean_tweet'] = df['tweet'].apply(preprocess_tweet)"
      ]
    },
    {
      "cell_type": "markdown",
      "source": [],
      "metadata": {
        "id": "bSpgYwfLRCmo"
      }
    },
    {
      "cell_type": "markdown",
      "source": [
        "#cleaned tweets"
      ],
      "metadata": {
        "id": "qZlOq2vPQys6"
      }
    },
    {
      "cell_type": "code",
      "execution_count": null,
      "metadata": {
        "colab": {
          "base_uri": "https://localhost:8080/"
        },
        "id": "QLSPKYiiPq-l",
        "outputId": "97116a9f-34c6-4777-e768-ca83675f8d50"
      },
      "outputs": [
        {
          "output_type": "stream",
          "name": "stdout",
          "text": [
            "          id                                              tweet subtask_a  \\\n",
            "0      86426  @USER She should ask a few native Americans wh...       OFF   \n",
            "1      90194  @USER @USER Go home you’re drunk!!! @USER #MAG...       OFF   \n",
            "2      16820  Amazon is investigating Chinese employees who ...       NOT   \n",
            "3      62688  @USER Someone should'veTaken\" this piece of sh...       OFF   \n",
            "4      43605  @USER @USER Obama wanted liberals &amp; illega...       NOT   \n",
            "...      ...                                                ...       ...   \n",
            "13235  95338  @USER Sometimes I get strong vibes from people...       OFF   \n",
            "13236  67210  Benidorm ✅  Creamfields ✅  Maga ✅   Not too sh...       NOT   \n",
            "13237  82921  @USER And why report this garbage.  We don't g...       OFF   \n",
            "13238  27429                                        @USER Pussy       OFF   \n",
            "13239  46552  #Spanishrevenge vs. #justice #HumanRights and ...       NOT   \n",
            "\n",
            "      subtask_b subtask_c                                        clean_tweet  \n",
            "0           UNT       NaN                           ask native american take  \n",
            "1           TIN       IND                           go home drunk ! maga url  \n",
            "2           NaN       NaN  amazon investigating chinese employee selling ...  \n",
            "3           UNT       NaN                         someone piece shit volcano  \n",
            "4           NaN       NaN   obama wanted liberal amp illegals move red state  \n",
            "...         ...       ...                                                ...  \n",
            "13235       TIN       IND  sometimes get strong vibe people man vibe ten ...  \n",
            "13236       NaN       NaN        benidorm creamfields maga not shabby summer  \n",
            "13237       TIN       OTH                           report garbage give crap  \n",
            "13238       UNT       NaN                                              pussy  \n",
            "13239       NaN       NaN  spanishrevenge justice humanrights freedomofex...  \n",
            "\n",
            "[13240 rows x 6 columns]\n"
          ]
        }
      ],
      "source": [
        "print(df)"
      ]
    },
    {
      "cell_type": "markdown",
      "source": [
        "# Feature Extraction—BERT vs. TF-IDF showdown"
      ],
      "metadata": {
        "id": "j2EBQFhSRkeF"
      }
    },
    {
      "cell_type": "code",
      "execution_count": null,
      "metadata": {
        "colab": {
          "base_uri": "https://localhost:8080/",
          "height": 301,
          "referenced_widgets": [
            "e6d1353fbc974b7e8a94989c500f7b8f",
            "4042f30089ac47358d2e2e809c1f121d",
            "b3c6333ecdd74b8f8f72088fe1eae0fb",
            "25439fb3868a4dbbacba46e0fdd19b60",
            "97bdc020a0724be7aa9bef04a3fc4e87",
            "cfd3e48d37de4cd5914d3323a7c3fa1d",
            "b0bad965551f4ba4988ccff33cb3d74c",
            "914540855d0a48c2a687e34edeefbf10",
            "c894fd696c8641d58ce753e17b24f32a",
            "f534f6074ae14d7fba80caac3ac0d8f5",
            "896622448da14d1ab879c519b61d5242",
            "28eb723fee3949aabff8a8e950190606",
            "2fedccd0265a4432868472e6e5d8d18d",
            "22923d8f98a44745a71e728ed1045f4f",
            "8d0813a46685435fa6ffed9d7242c236",
            "aa6ee9a326e141f7b18a060709256d8a",
            "76567711f3e34774af9ead3ff6e71379",
            "70831e262d9b4445b3f8423d9a6c9162",
            "0c9118e5b83b4f1da368cb172f18fb25",
            "3d19fc6aace04e9ea724e072426ba49c",
            "ce8b866ad7ed4e26a0a23675a7970771",
            "5619d457fd93486c995e971163cc8edd",
            "3312d66be0654d698c50eb7f079c5b51",
            "6e1cc16a652d4220ac46cedf39a44ef5",
            "32e5bc05fa664265a8016a974d626644",
            "e8ff5f70a0104e15af2999902a144268",
            "9ce23d530c4e44f498f2451ac481070a",
            "f047f2bb75f04fb2b67fa105374e95f7",
            "583641df675c400a96409b88a7132ba1",
            "530ef947fed74ff5af90ef13eb46c906",
            "381ef91189334eea8456f0b82d74f9a7",
            "27074b9eda6f48348d33e8f026dd0b63",
            "0d474a5ed5a8424692b8ad14d6e726b4",
            "9bfbec9505fd4dcbb1b5943a60695220",
            "3cd8196cce8a46d794630a92e3498b81",
            "6cb75d5152eb4caebd11c293f1d7e01f",
            "8089893cc53a48e1b3da4f3ff5737b5a",
            "4fb02f50a77f454687460d5c68b3e102",
            "73260dd1d29c4b3aba353c1932e0deb7",
            "e63ce36e46744e708f52aa3369f6bb14",
            "06f2d4e0c3cc4bef892de1911c581e49",
            "663455328d4e41c2b4e84a7e54cd5b19",
            "6b2e95db37424465bdfc6dcdf81f39c9",
            "007637ea705946e08f3e264be247ee8e",
            "963e89977c914443b073fed7bdf62ac3",
            "073366cde61f48b7948100c8c8c75417",
            "1782a887eda44b9eb09732f748f008ea",
            "e61b561ff64d48d8bcfe3fe7e1ee6b48",
            "5afd0bca976240549c7d7aefd6bfa247",
            "bd008cb6fe2b4d1d98d52d6dd60006a6",
            "a406f6866ac54956af8c774b1edbe0ea",
            "67e7e0e72dfd4cffb3479e16dad6325a",
            "28c2222085d0441a868736af91c50359",
            "e1ee20b501aa4acbbc23cab1909f5672",
            "8deb465589184909a5dc0ca5848f8059"
          ]
        },
        "id": "aJXxfHEUP55c",
        "outputId": "a1406ba5-a702-48a2-e95a-d0cb18f75ab0"
      },
      "outputs": [
        {
          "output_type": "stream",
          "name": "stderr",
          "text": [
            "/usr/local/lib/python3.11/dist-packages/huggingface_hub/utils/_auth.py:94: UserWarning: \n",
            "The secret `HF_TOKEN` does not exist in your Colab secrets.\n",
            "To authenticate with the Hugging Face Hub, create a token in your settings tab (https://huggingface.co/settings/tokens), set it as secret in your Google Colab and restart your session.\n",
            "You will be able to reuse this secret in all of your notebooks.\n",
            "Please note that authentication is recommended but still optional to access public models or datasets.\n",
            "  warnings.warn(\n"
          ]
        },
        {
          "output_type": "display_data",
          "data": {
            "text/plain": [
              "tokenizer_config.json:   0%|          | 0.00/48.0 [00:00<?, ?B/s]"
            ],
            "application/vnd.jupyter.widget-view+json": {
              "version_major": 2,
              "version_minor": 0,
              "model_id": "e6d1353fbc974b7e8a94989c500f7b8f"
            }
          },
          "metadata": {}
        },
        {
          "output_type": "display_data",
          "data": {
            "text/plain": [
              "vocab.txt:   0%|          | 0.00/232k [00:00<?, ?B/s]"
            ],
            "application/vnd.jupyter.widget-view+json": {
              "version_major": 2,
              "version_minor": 0,
              "model_id": "28eb723fee3949aabff8a8e950190606"
            }
          },
          "metadata": {}
        },
        {
          "output_type": "display_data",
          "data": {
            "text/plain": [
              "tokenizer.json:   0%|          | 0.00/466k [00:00<?, ?B/s]"
            ],
            "application/vnd.jupyter.widget-view+json": {
              "version_major": 2,
              "version_minor": 0,
              "model_id": "3312d66be0654d698c50eb7f079c5b51"
            }
          },
          "metadata": {}
        },
        {
          "output_type": "display_data",
          "data": {
            "text/plain": [
              "config.json:   0%|          | 0.00/570 [00:00<?, ?B/s]"
            ],
            "application/vnd.jupyter.widget-view+json": {
              "version_major": 2,
              "version_minor": 0,
              "model_id": "9bfbec9505fd4dcbb1b5943a60695220"
            }
          },
          "metadata": {}
        },
        {
          "output_type": "display_data",
          "data": {
            "text/plain": [
              "model.safetensors:   0%|          | 0.00/440M [00:00<?, ?B/s]"
            ],
            "application/vnd.jupyter.widget-view+json": {
              "version_major": 2,
              "version_minor": 0,
              "model_id": "963e89977c914443b073fed7bdf62ac3"
            }
          },
          "metadata": {}
        }
      ],
      "source": [
        "# Step 4: Feature Extraction—BERT vs. TF-IDF showdown\n",
        "tokenizer = BertTokenizer.from_pretrained('bert-base-uncased')\n",
        "bert_model = BertModel.from_pretrained('bert-base-uncased')"
      ]
    },
    {
      "cell_type": "code",
      "execution_count": null,
      "metadata": {
        "id": "ChjP1mnGQe8B"
      },
      "outputs": [],
      "source": [
        "def get_bert_embeddings(texts):\n",
        "    \"\"\"Grab BERT embeddings—takes time, but it’s worth it.\"\"\"\n",
        "    embeddings = []\n",
        "    for text in texts:\n",
        "        inputs = tokenizer(text, return_tensors='pt', truncation=True, padding=True, max_length=128)\n",
        "        with torch.no_grad():\n",
        "            outputs = bert_model(**inputs)\n",
        "        embeddings.append(outputs.last_hidden_state.mean(dim=1).numpy().flatten())\n",
        "    return np.array(embeddings)"
      ]
    },
    {
      "cell_type": "code",
      "execution_count": null,
      "metadata": {
        "id": "ql8JUa6DQs_S"
      },
      "outputs": [],
      "source": [
        "tfidf_vectorizer = TfidfVectorizer(ngram_range=(1, 2), max_features=6000)  # Upped features a bit"
      ]
    },
    {
      "cell_type": "code",
      "execution_count": null,
      "metadata": {
        "colab": {
          "base_uri": "https://localhost:8080/"
        },
        "id": "pjSbNCGnQ1Gb",
        "outputId": "7ef92e50-ebae-4406-bd71-a6572e1d1bb1"
      },
      "outputs": [
        {
          "output_type": "stream",
          "name": "stdout",
          "text": [
            "\n",
            "TF-IDF features...\n",
            "TF-IDF shape: (13240, 6000)\n"
          ]
        }
      ],
      "source": [
        "print(\"\\nTF-IDF features...\")\n",
        "X_tfidf = tfidf_vectorizer.fit_transform(df['clean_tweet'])\n",
        "print(\"TF-IDF shape:\", X_tfidf.shape)"
      ]
    },
    {
      "cell_type": "code",
      "execution_count": null,
      "metadata": {
        "colab": {
          "base_uri": "https://localhost:8080/"
        },
        "id": "Slh_1Sz7Q3N7",
        "outputId": "c6024f19-33c4-4674-8294-fd8d2823b206"
      },
      "outputs": [
        {
          "output_type": "stream",
          "name": "stdout",
          "text": [
            "  (0, 339)\t0.4004056181940148\n",
            "  (0, 3480)\t0.5402243212914455\n",
            "  (0, 169)\t0.3363076384025168\n",
            "  (0, 5192)\t0.3163166660299901\n",
            "  (0, 3481)\t0.578510123288832\n",
            "  (1, 2148)\t0.296399722028548\n",
            "  (1, 2426)\t0.39255678616337747\n",
            "  (1, 1558)\t0.4832159501345192\n",
            "  (1, 3157)\t0.23972682795132744\n",
            "  (1, 5616)\t0.19591631018919262\n",
            "  (1, 2157)\t0.5470511292640617\n",
            "  (1, 3177)\t0.3597660757870804\n",
            "  (2, 3157)\t0.11723080314546958\n",
            "  (2, 5616)\t0.09580665872506831\n",
            "  (2, 160)\t0.5803262670064988\n",
            "  (2, 893)\t0.2565254551358366\n",
            "  (2, 1643)\t0.2542714572197173\n",
            "  (2, 4733)\t0.2565254551358366\n",
            "  (2, 1278)\t0.25018237587967435\n",
            "  (2, 3098)\t0.191967447763004\n",
            "  (2, 1600)\t0.279170581608672\n",
            "  (2, 999)\t0.284206686116436\n",
            "  (2, 2670)\t0.20169110185016312\n",
            "  (2, 892)\t0.23758277813369522\n",
            "  (2, 5229)\t0.21008876836267332\n",
            "  :\t:\n",
            "  (13234, 4504)\t0.46144058126658666\n",
            "  (13234, 1959)\t0.5021748636283403\n",
            "  (13235, 3982)\t0.1398237594978804\n",
            "  (13235, 2090)\t0.14646123654441384\n",
            "  (13235, 3445)\t0.24415217765582153\n",
            "  (13235, 3210)\t0.18521691466316714\n",
            "  (13235, 3357)\t0.2289003811909005\n",
            "  (13235, 5103)\t0.24985528130112303\n",
            "  (13235, 5253)\t0.2994228340500261\n",
            "  (13235, 1272)\t0.25166036813850423\n",
            "  (13235, 4945)\t0.2737785085328652\n",
            "  (13235, 5656)\t0.6436960095291446\n",
            "  (13235, 1560)\t0.32859334468998713\n",
            "  (13236, 3157)\t0.27472812349044323\n",
            "  (13236, 3625)\t0.24274191920704416\n",
            "  (13236, 3169)\t0.6799917004282277\n",
            "  (13236, 5138)\t0.634989847298229\n",
            "  (13237, 2136)\t0.4074305033794157\n",
            "  (13237, 1194)\t0.512821296372252\n",
            "  (13237, 2063)\t0.5647212892196729\n",
            "  (13237, 4454)\t0.5021001577426055\n",
            "  (13238, 4276)\t1.0\n",
            "  (13239, 5616)\t0.2544285227375488\n",
            "  (13239, 2666)\t0.5579212936718343\n",
            "  (13239, 2020)\t0.7899303493885619\n"
          ]
        }
      ],
      "source": [
        "print(X_tfidf)"
      ]
    },
    {
      "cell_type": "code",
      "execution_count": null,
      "metadata": {
        "colab": {
          "base_uri": "https://localhost:8080/"
        },
        "id": "RHD4VWFQQ_4s",
        "outputId": "4f24ca61-b362-43ef-c98d-5cca8d4c8312"
      },
      "outputs": [
        {
          "output_type": "stream",
          "name": "stdout",
          "text": [
            "Now for BERT—hold tight, this’ll take a sec...\n",
            "BERT shape: (13240, 768)\n"
          ]
        }
      ],
      "source": [
        "#print(\"Now for BERT—hold tight, this’ll take a sec...\")\n",
        "print(\"BERT working \")\n",
        "X_bert = get_bert_embeddings(df['clean_tweet'])\n",
        "print(\"BERT shape:\", X_bert.shape)\n"
      ]
    },
    {
      "cell_type": "code",
      "execution_count": null,
      "metadata": {
        "colab": {
          "base_uri": "https://localhost:8080/"
        },
        "id": "K77HxAraV6m3",
        "outputId": "7cd19d63-e125-43bb-d75c-b493da2dd6a3"
      },
      "outputs": [
        {
          "output_type": "stream",
          "name": "stdout",
          "text": [
            "[[ 0.24657845  0.16218264 -0.54695874 ... -0.09708053 -0.3977275\n",
            "  -0.06054431]\n",
            " [ 0.00220668  0.15251693  0.7082937  ... -0.3686969   0.01280844\n",
            "  -0.01359813]\n",
            " [-0.07967153 -0.00253218  0.14770968 ... -0.20086205  0.10606516\n",
            "   0.01358666]\n",
            " ...\n",
            " [ 0.6392501   0.30446368 -0.094637   ...  0.00206338 -0.00746425\n",
            "  -0.27336672]\n",
            " [ 0.21830411 -0.13062496 -0.04505285 ... -0.01969313 -0.18233995\n",
            "  -0.17299794]\n",
            " [ 0.10119918 -0.11294637  0.44421545 ... -0.4735723  -0.01756887\n",
            "  -0.2546939 ]]\n"
          ]
        }
      ],
      "source": [
        "print(X_bert)"
      ]
    },
    {
      "cell_type": "markdown",
      "source": [
        "# Word cloud map"
      ],
      "metadata": {
        "id": "YpPjVpSrR-Y5"
      }
    },
    {
      "cell_type": "code",
      "execution_count": null,
      "metadata": {
        "colab": {
          "base_uri": "https://localhost:8080/",
          "height": 479
        },
        "id": "Z0HzjihvW6yw",
        "outputId": "6d76ed43-6c90-4ebf-ee53-83b8aa5b3be7"
      },
      "outputs": [
        {
          "output_type": "stream",
          "name": "stdout",
          "text": [
            "\n",
            "Making a word cloud...\n"
          ]
        },
        {
          "output_type": "display_data",
          "data": {
            "text/plain": [
              "<Figure size 1000x500 with 1 Axes>"
            ],
            "image/png": "[encoded data removed]"
          },
          "metadata": {}
        }
      ],
      "source": [
        "# Step 5: Word Cloud—let’s see what’s popping\n",
        "print(\"\\nWorking on word cloud...\")\n",
        "all_text = \" \".join(df['clean_tweet'])\n",
        "wordcloud = WordCloud(width=900, height=450, background_color='black', max_words=300).generate(all_text)\n",
        "plt.figure(figsize=(12, 6))\n",
        "plt.imshow(wordcloud, interpolation='bilinear')\n",
        "plt.axis('off')\n",
        "plt.title(\"Cleaned Tweets\")\n",
        "plt.show()"
      ]
    },
    {
      "cell_type": "code",
      "execution_count": null,
      "metadata": {
        "id": "Qo_Y4BEfRFbV"
      },
      "outputs": [],
      "source": [
        "y_a = df['subtask_a']"
      ]
    },
    {
      "cell_type": "markdown",
      "source": [
        "# **Defining Confusion Matrix**"
      ],
      "metadata": {
        "id": "XBot1AtuUl0W"
      }
    },
    {
      "cell_type": "code",
      "execution_count": null,
      "metadata": {
        "id": "hmrCwP2CVLp_"
      },
      "outputs": [],
      "source": [
        "def plot_confusion_matrix(y_true, y_pred, labels, title):\n",
        "    \"\"\"Quick confusion matrix plot.\"\"\"\n",
        "    cm = confusion_matrix(y_true, y_pred, labels=labels)\n",
        "    plt.figure(figsize=(6, 5))\n",
        "    sns.heatmap(cm, annot=True, fmt='d', cmap='Blues', xticklabels=labels, yticklabels=labels)\n",
        "    plt.title(title)\n",
        "    plt.ylabel('True')\n",
        "    plt.xlabel('Predicted')\n",
        "    plt.show()"
      ]
    },
    {
      "cell_type": "markdown",
      "source": [
        "# **Train Function**"
      ],
      "metadata": {
        "id": "P7Trz6dlUr-6"
      }
    },
    {
      "cell_type": "code",
      "execution_count": null,
      "metadata": {
        "id": "G6Y3xYPmSIZL"
      },
      "outputs": [],
      "source": [
        "def train_and_compare(X, y, subtask_name, is_bert=False):\n",
        "    \"\"\"Test models, pick the best, note if it’s BERT.\"\"\"\n",
        "    models = {\n",
        "        \"LogisticRegression\": {\n",
        "            \"model\": LogisticRegression(solver='liblinear', max_iter=3000, random_state=42, class_weight='balanced'),\n",
        "            \"params\": {\"clf__C\": [0.1, 1, 10]}\n",
        "        },\n",
        "        \"SVM\": {\n",
        "            \"model\": SVC(random_state=42, class_weight='balanced'),\n",
        "            \"params\": {\"clf__C\": [1, 10], \"clf__kernel\": [\"linear\"]}\n",
        "        },\n",
        "        \"RandomForest\": {\n",
        "            \"model\": RandomForestClassifier(random_state=42, class_weight='balanced'),\n",
        "            \"params\": {\"clf__n_estimators\": [100, 200], \"clf__max_depth\": [10, None]}\n",
        "        },\n",
        "        \"NaiveBayes\": {\n",
        "            \"model\": MultinomialNB(),\n",
        "            \"params\": {\"clf__alpha\": [0.1, 1]}\n",
        "        }\n",
        "    }\n",
        "\n",
        "    best_model = None\n",
        "    best_name = \"\"\n",
        "    best_score = -1\n",
        "    is_best_bert = False\n",
        "    results = {}\n",
        "\n",
        "    for name, mp in models.items():\n",
        "        if name == \"NaiveBayes\" and is_bert:\n",
        "            continue\n",
        "        pipe = Pipeline([(\"clf\", mp[\"model\"])])\n",
        "        grid = GridSearchCV(pipe, mp[\"params\"], cv=3, scoring='f1_macro', verbose=1)\n",
        "        grid.fit(X, y)\n",
        "        score = grid.best_score_\n",
        "        print(f\"{name} - Best Params: {grid.best_params_}, Macro F1 (CV): {score:.4f}\")\n",
        "        results[name] = (score, grid.best_estimator_)\n",
        "        if score > best_score:\n",
        "            best_score = score\n",
        "            best_model = grid.best_estimator_\n",
        "            best_name = name\n",
        "            is_best_bert = is_bert\n",
        "\n",
        "    return best_model, best_name, best_score, is_best_bert, results"
      ]
    },
    {
      "cell_type": "markdown",
      "source": [
        "# **Training With respect to TF-IDF Features for SubTask-A**"
      ],
      "metadata": {
        "id": "EpocLlw5Uwq5"
      }
    },
    {
      "cell_type": "code",
      "execution_count": null,
      "metadata": {
        "colab": {
          "base_uri": "https://localhost:8080/"
        },
        "id": "KwpSEtZXUamb",
        "outputId": "eafa094e-9bc5-4e68-cf96-9a92b8a48384"
      },
      "outputs": [
        {
          "output_type": "stream",
          "name": "stdout",
          "text": [
            "\n",
            "=== Subtask A: TF-IDF Models ===\n",
            "Fitting 3 folds for each of 3 candidates, totalling 9 fits\n",
            "LogisticRegression - Best Params: {'clf__C': 1}, Macro F1 (CV): 0.7057\n",
            "Fitting 3 folds for each of 2 candidates, totalling 6 fits\n",
            "SVM - Best Params: {'clf__C': 1, 'clf__kernel': 'linear'}, Macro F1 (CV): 0.6974\n",
            "Fitting 3 folds for each of 4 candidates, totalling 12 fits\n",
            "RandomForest - Best Params: {'clf__max_depth': 10, 'clf__n_estimators': 200}, Macro F1 (CV): 0.7004\n",
            "Fitting 3 folds for each of 2 candidates, totalling 6 fits\n",
            "NaiveBayes - Best Params: {'clf__alpha': 0.1}, Macro F1 (CV): 0.6559\n"
          ]
        }
      ],
      "source": [
        "# Subtask A—Offensive or Not?\n",
        "print(\"\\n=== Subtask A: TF-IDF Models ===\")\n",
        "X_train_a_tfidf, X_val_a_tfidf, y_train_a, y_val_a = train_test_split(\n",
        "    X_tfidf, y_a, test_size=0.2, random_state=42, stratify=y_a\n",
        ")\n",
        "best_est_a_tfidf, best_name_a_tfidf, best_score_a_tfidf, _, res_a_tfidf = train_and_compare(\n",
        "    X_train_a_tfidf, y_train_a, \"Subtask A\"\n",
        ")"
      ]
    },
    {
      "cell_type": "markdown",
      "source": [
        "# **Training With Respect to BERT Features(SubTask-A)**"
      ],
      "metadata": {
        "id": "Hu4Zq2KyU3FD"
      }
    },
    {
      "cell_type": "code",
      "execution_count": null,
      "metadata": {
        "colab": {
          "base_uri": "https://localhost:8080/"
        },
        "id": "e1JFoFQoa_-U",
        "outputId": "c0d9d3f3-4d03-4976-cf87-0837c259d4c9"
      },
      "outputs": [
        {
          "output_type": "stream",
          "name": "stdout",
          "text": [
            "\n",
            "=== Subtask A: BERT Models ===\n",
            "Fitting 3 folds for each of 3 candidates, totalling 9 fits\n",
            "LogisticRegression - Best Params: {'clf__C': 0.1}, Macro F1 (CV): 0.7132\n",
            "Fitting 3 folds for each of 2 candidates, totalling 6 fits\n",
            "SVM - Best Params: {'clf__C': 1, 'clf__kernel': 'linear'}, Macro F1 (CV): 0.6968\n",
            "Fitting 3 folds for each of 4 candidates, totalling 12 fits\n",
            "RandomForest - Best Params: {'clf__max_depth': 10, 'clf__n_estimators': 200}, Macro F1 (CV): 0.6813\n"
          ]
        }
      ],
      "source": [
        "print(\"\\n=== Subtask A: BERT Models ===\")\n",
        "X_train_a_bert, X_val_a_bert, _, _ = train_test_split(\n",
        "    X_bert, y_a, test_size=0.2, random_state=42, stratify=y_a\n",
        ")\n",
        "best_est_a_bert, best_name_a_bert, best_score_a_bert, is_bert_a, res_a_bert = train_and_compare(\n",
        "    X_train_a_bert, y_train_a, \"Subtask A\", is_bert=True\n",
        ")"
      ]
    },
    {
      "cell_type": "markdown",
      "source": [
        "# **Predicting the Best Model Performance for SubTask-A**\n",
        "\n",
        "\n"
      ],
      "metadata": {
        "id": "aCQwPPL9VB6F"
      }
    },
    {
      "cell_type": "code",
      "execution_count": null,
      "metadata": {
        "id": "qXd1fnIfUsIB"
      },
      "outputs": [],
      "source": [
        "from sklearn.metrics import classification_report, f1_score, confusion_matrix, accuracy_score\n",
        "best_est_a = best_est_a_bert if best_score_a_bert > best_score_a_tfidf else best_est_a_tfidf\n",
        "best_name_a = f\"{best_name_a_bert}_BERT\" if best_score_a_bert > best_score_a_tfidf else best_name_a_tfidf\n",
        "is_bert_a = best_score_a_bert > best_score_a_tfidf\n",
        "y_val_pred_a = best_est_a.predict(X_val_a_bert if is_bert_a else X_val_a_tfidf)\n",
        "acc_a = accuracy_score(y_val_a, y_val_pred_a)"
      ]
    },
    {
      "cell_type": "markdown",
      "source": [
        "# **Printing Results for SubTask-A**"
      ],
      "metadata": {
        "id": "8LR4P258VHcA"
      }
    },
    {
      "cell_type": "code",
      "execution_count": null,
      "metadata": {
        "colab": {
          "base_uri": "https://localhost:8080/",
          "height": 695
        },
        "id": "yMroYuvxx4JV",
        "outputId": "f3b12d9b-32c2-4edf-cd7d-acee98e96345"
      },
      "outputs": [
        {
          "output_type": "stream",
          "name": "stdout",
          "text": [
            "\n",
            "Subtask A Best Model: LogisticRegression_BERT\n",
            "Validation Accuracy: 0.7409\n",
            "              precision    recall  f1-score   support\n",
            "\n",
            "         NOT       0.84      0.75      0.80      1768\n",
            "         OFF       0.59      0.71      0.65       880\n",
            "\n",
            "    accuracy                           0.74      2648\n",
            "   macro avg       0.72      0.73      0.72      2648\n",
            "weighted avg       0.76      0.74      0.75      2648\n",
            "\n"
          ]
        },
        {
          "output_type": "display_data",
          "data": {
            "text/plain": [
              "<Figure size 600x500 with 2 Axes>"
            ],
            "image/png": "[encoded data removed]"
          },
          "metadata": {}
        }
      ],
      "source": [
        "print(f\"\\nSubtask A Best Model: {best_name_a}\")\n",
        "print(f\"Validation Accuracy: {acc_a:.4f}\")\n",
        "print(classification_report(y_val_a, y_val_pred_a))\n",
        "plot_confusion_matrix(y_val_a, y_val_pred_a, ['NOT', 'OFF'], \"Subtask A Confusion Matrix\")"
      ]
    },
    {
      "cell_type": "code",
      "execution_count": null,
      "metadata": {
        "colab": {
          "base_uri": "https://localhost:8080/"
        },
        "id": "XJlqL5Itx4JW",
        "outputId": "2110c09b-120e-4737-d125-a01bd081bace"
      },
      "outputs": [
        {
          "output_type": "stream",
          "name": "stdout",
          "text": [
            "Subtask A model saved as 'best_model_subtask_a.pkl'\n"
          ]
        }
      ],
      "source": [
        "joblib.dump(best_est_a, 'best_model_subtask_a.pkl')\n",
        "print(\"Subtask A model saved as 'best_model_subtask_a.pkl'\")"
      ]
    },
    {
      "cell_type": "markdown",
      "source": [],
      "metadata": {
        "id": "R4sRoVZxVTWS"
      }
    },
    {
      "cell_type": "code",
      "execution_count": null,
      "metadata": {
        "id": "XaJGQ9QtX_nf"
      },
      "outputs": [],
      "source": [
        "# Subtask B—Targeted or Untargeted?\n",
        "df_b = df[df['subtask_a'] == 'OFF'].copy()\n",
        "X_tfidf_b = tfidf_vectorizer.transform(df_b['clean_tweet'])\n",
        "X_bert_b = get_bert_embeddings(df_b['clean_tweet'])\n",
        "y_b = df_b['subtask_b']"
      ]
    },
    {
      "cell_type": "markdown",
      "source": [
        "# **Training the Models with respect to TF-IDF Features for SubTask-B**\n",
        "\n",
        "\n"
      ],
      "metadata": {
        "id": "Gxz57iEUVVxV"
      }
    },
    {
      "cell_type": "code",
      "execution_count": null,
      "metadata": {
        "colab": {
          "base_uri": "https://localhost:8080/"
        },
        "id": "Iq1cwytzYEth",
        "outputId": "88fc1fad-eaa8-4cbf-cf70-4e0e80b9646c"
      },
      "outputs": [
        {
          "output_type": "stream",
          "name": "stdout",
          "text": [
            "\n",
            "=== Subtask B: TF-IDF Models ===\n",
            "Fitting 3 folds for each of 3 candidates, totalling 9 fits\n",
            "LogisticRegression - Best Params: {'clf__C': 0.1}, Macro F1 (CV): 0.5938\n",
            "Fitting 3 folds for each of 2 candidates, totalling 6 fits\n",
            "SVM - Best Params: {'clf__C': 1, 'clf__kernel': 'linear'}, Macro F1 (CV): 0.5739\n",
            "Fitting 3 folds for each of 4 candidates, totalling 12 fits\n",
            "RandomForest - Best Params: {'clf__max_depth': 10, 'clf__n_estimators': 200}, Macro F1 (CV): 0.5825\n",
            "Fitting 3 folds for each of 2 candidates, totalling 6 fits\n",
            "NaiveBayes - Best Params: {'clf__alpha': 0.1}, Macro F1 (CV): 0.5056\n"
          ]
        }
      ],
      "source": [
        "print(\"\\n=== Subtask B: TF-IDF Models ===\")\n",
        "X_train_b_tfidf, X_val_b_tfidf, y_train_b, y_val_b = train_test_split(\n",
        "    X_tfidf_b, y_b, test_size=0.2, random_state=42, stratify=y_b\n",
        ")\n",
        "best_est_b_tfidf, best_name_b_tfidf, best_score_b_tfidf, _, res_b_tfidf = train_and_compare(\n",
        "    X_train_b_tfidf, y_train_b, \"Subtask B\"\n",
        ")"
      ]
    },
    {
      "cell_type": "markdown",
      "source": [
        "# **Training the Models with respect to BERT Features for SubTask-B**\n",
        "\n",
        "\n"
      ],
      "metadata": {
        "id": "53SNvuqLVk-g"
      }
    },
    {
      "cell_type": "code",
      "execution_count": null,
      "metadata": {
        "colab": {
          "base_uri": "https://localhost:8080/"
        },
        "id": "NHk6kJt_YHR3",
        "outputId": "14640f3a-f4cc-4fbe-8efa-5ed45a430141"
      },
      "outputs": [
        {
          "output_type": "stream",
          "name": "stdout",
          "text": [
            "\n",
            "=== Subtask B: BERT Models ===\n",
            "Fitting 3 folds for each of 3 candidates, totalling 9 fits\n",
            "LogisticRegression - Best Params: {'clf__C': 0.1}, Macro F1 (CV): 0.5492\n",
            "Fitting 3 folds for each of 2 candidates, totalling 6 fits\n",
            "SVM - Best Params: {'clf__C': 1, 'clf__kernel': 'linear'}, Macro F1 (CV): 0.5315\n",
            "Fitting 3 folds for each of 4 candidates, totalling 12 fits\n",
            "RandomForest - Best Params: {'clf__max_depth': 10, 'clf__n_estimators': 100}, Macro F1 (CV): 0.5151\n"
          ]
        }
      ],
      "source": [
        "print(\"\\n=== Subtask B: BERT Models ===\")\n",
        "X_train_b_bert, X_val_b_bert, _, _ = train_test_split(\n",
        "    X_bert_b, y_b, test_size=0.2, random_state=42, stratify=y_b\n",
        ")\n",
        "best_est_b_bert, best_name_b_bert, best_score_b_bert, is_bert_b, res_b_bert = train_and_compare(\n",
        "    X_train_b_bert, y_train_b, \"Subtask B\", is_bert=True\n",
        ")"
      ]
    },
    {
      "cell_type": "markdown",
      "source": [
        "# **Predicting the Best Model Performance and Printing Results for SubTask-B**\n",
        "\n",
        "\n"
      ],
      "metadata": {
        "id": "0x4_1zkvWFR1"
      }
    },
    {
      "cell_type": "code",
      "execution_count": null,
      "metadata": {
        "id": "3bPTu5rWYJo0",
        "colab": {
          "base_uri": "https://localhost:8080/",
          "height": 695
        },
        "outputId": "0eb07c9c-eda7-452a-d0cf-befeaa57ce08"
      },
      "outputs": [
        {
          "output_type": "stream",
          "name": "stdout",
          "text": [
            "\n",
            "Subtask B Best Model: LogisticRegression\n",
            "Validation Accuracy: 0.7864\n",
            "              precision    recall  f1-score   support\n",
            "\n",
            "         TIN       0.91      0.84      0.87       775\n",
            "         UNT       0.25      0.38      0.30       105\n",
            "\n",
            "    accuracy                           0.79       880\n",
            "   macro avg       0.58      0.61      0.59       880\n",
            "weighted avg       0.83      0.79      0.81       880\n",
            "\n"
          ]
        },
        {
          "output_type": "display_data",
          "data": {
            "text/plain": [
              "<Figure size 600x500 with 2 Axes>"
            ],
            "image/png": "[encoded data removed]"
          },
          "metadata": {}
        }
      ],
      "source": [
        "best_est_b = best_est_b_bert if best_score_b_bert > best_score_b_tfidf else best_est_b_tfidf\n",
        "best_name_b = f\"{best_name_b_bert}_BERT\" if best_score_b_bert > best_score_b_tfidf else best_name_b_tfidf\n",
        "is_bert_b = best_score_b_bert > best_score_b_tfidf\n",
        "y_val_pred_b = best_est_b.predict(X_val_b_bert if is_bert_b else X_val_b_tfidf)\n",
        "acc_b = accuracy_score(y_val_b, y_val_pred_b)\n",
        "print(f\"\\nSubtask B Best Model: {best_name_b}\")\n",
        "print(f\"Validation Accuracy: {acc_b:.4f}\")\n",
        "print(classification_report(y_val_b, y_val_pred_b))\n",
        "plot_confusion_matrix(y_val_b, y_val_pred_b, ['TIN', 'UNT'], \"Subtask B Confusion Matrix\")"
      ]
    },
    {
      "cell_type": "code",
      "execution_count": null,
      "metadata": {
        "id": "73je6u_ZYvSI",
        "colab": {
          "base_uri": "https://localhost:8080/"
        },
        "outputId": "a8955bf9-864b-421c-c881-cdf5b6e55e56"
      },
      "outputs": [
        {
          "output_type": "stream",
          "name": "stdout",
          "text": [
            "Subtask B model saved as 'best_model_subtask_b.pkl'\n"
          ]
        }
      ],
      "source": [
        "joblib.dump(best_est_b, 'best_model_subtask_b.pkl')\n",
        "print(\"Subtask B model saved as 'best_model_subtask_b.pkl'\")"
      ]
    },
    {
      "cell_type": "code",
      "execution_count": null,
      "metadata": {
        "id": "A1IhklxIYwHg"
      },
      "outputs": [],
      "source": [
        "# Subtask C—Who’s the Target?\n",
        "df_c = df[df['subtask_b'] == 'TIN'].copy()\n",
        "X_tfidf_c = tfidf_vectorizer.transform(df_c['clean_tweet'])\n",
        "X_bert_c = get_bert_embeddings(df_c['clean_tweet'])\n",
        "y_c = df_c['subtask_c']"
      ]
    },
    {
      "cell_type": "markdown",
      "source": [
        "# **Training the Models with respect to TF-IDF Features for SubTask-C**\n",
        "\n",
        "\n"
      ],
      "metadata": {
        "id": "0sJkyFlZV-sK"
      }
    },
    {
      "cell_type": "code",
      "execution_count": null,
      "metadata": {
        "id": "AGMhgf5DYySk",
        "colab": {
          "base_uri": "https://localhost:8080/"
        },
        "outputId": "12464650-79db-4cbc-b6ea-993b23d947aa"
      },
      "outputs": [
        {
          "output_type": "stream",
          "name": "stdout",
          "text": [
            "\n",
            "=== Subtask C: TF-IDF Models ===\n",
            "Fitting 3 folds for each of 3 candidates, totalling 9 fits\n",
            "LogisticRegression - Best Params: {'clf__C': 1}, Macro F1 (CV): 0.4682\n",
            "Fitting 3 folds for each of 2 candidates, totalling 6 fits\n",
            "SVM - Best Params: {'clf__C': 1, 'clf__kernel': 'linear'}, Macro F1 (CV): 0.4794\n",
            "Fitting 3 folds for each of 4 candidates, totalling 12 fits\n",
            "RandomForest - Best Params: {'clf__max_depth': 10, 'clf__n_estimators': 200}, Macro F1 (CV): 0.5025\n",
            "Fitting 3 folds for each of 2 candidates, totalling 6 fits\n",
            "NaiveBayes - Best Params: {'clf__alpha': 0.1}, Macro F1 (CV): 0.3839\n"
          ]
        }
      ],
      "source": [
        "print(\"\\n=== Subtask C: TF-IDF Models ===\")\n",
        "X_train_c_tfidf, X_val_c_tfidf, y_train_c, y_val_c = train_test_split(\n",
        "    X_tfidf_c, y_c, test_size=0.2, random_state=42, stratify=y_c\n",
        ")\n",
        "best_est_c_tfidf, best_name_c_tfidf, best_score_c_tfidf, _, res_c_tfidf = train_and_compare(\n",
        "    X_train_c_tfidf, y_train_c, \"Subtask C\"\n",
        ")"
      ]
    },
    {
      "cell_type": "markdown",
      "source": [
        "# **Training the Models with respect to BERT Features for SubTask-C**\n",
        "\n",
        "\n"
      ],
      "metadata": {
        "id": "y4UmGaCsWRZS"
      }
    },
    {
      "cell_type": "code",
      "execution_count": null,
      "metadata": {
        "id": "6Jfsnn_8Y1bA",
        "colab": {
          "base_uri": "https://localhost:8080/"
        },
        "outputId": "ed034a60-e533-47dd-e999-9e1f30b94c70"
      },
      "outputs": [
        {
          "output_type": "stream",
          "name": "stdout",
          "text": [
            "\n",
            "=== Subtask C: BERT Models ===\n",
            "Fitting 3 folds for each of 3 candidates, totalling 9 fits\n",
            "LogisticRegression - Best Params: {'clf__C': 0.1}, Macro F1 (CV): 0.4946\n",
            "Fitting 3 folds for each of 2 candidates, totalling 6 fits\n",
            "SVM - Best Params: {'clf__C': 1, 'clf__kernel': 'linear'}, Macro F1 (CV): 0.4512\n",
            "Fitting 3 folds for each of 4 candidates, totalling 12 fits\n",
            "RandomForest - Best Params: {'clf__max_depth': 10, 'clf__n_estimators': 100}, Macro F1 (CV): 0.4136\n"
          ]
        }
      ],
      "source": [
        "print(\"\\n=== Subtask C: BERT Models ===\")\n",
        "X_train_c_bert, X_val_c_bert, _, _ = train_test_split(\n",
        "    X_bert_c, y_c, test_size=0.2, random_state=42, stratify=y_c\n",
        ")\n",
        "best_est_c_bert, best_name_c_bert, best_score_c_bert, is_bert_c, res_c_bert = train_and_compare(\n",
        "    X_train_c_bert, y_train_c, \"Subtask C\", is_bert=True\n",
        ")"
      ]
    },
    {
      "cell_type": "markdown",
      "source": [
        "# **Predicting the Best Model Performance and Printing Results for SubTask-C**\n",
        "\n",
        "\n"
      ],
      "metadata": {
        "id": "FGM9aBZQWXO5"
      }
    },
    {
      "cell_type": "code",
      "execution_count": null,
      "metadata": {
        "id": "uOPpGEMLY4kF",
        "colab": {
          "base_uri": "https://localhost:8080/",
          "height": 713
        },
        "outputId": "105320ba-ba9d-4b5d-c3f1-4a28f1c8ac70"
      },
      "outputs": [
        {
          "output_type": "stream",
          "name": "stdout",
          "text": [
            "\n",
            "Subtask C Best Model: RandomForest\n",
            "Validation Accuracy: 0.6740\n",
            "              precision    recall  f1-score   support\n",
            "\n",
            "         GRP       0.55      0.52      0.54       215\n",
            "         IND       0.77      0.82      0.80       482\n",
            "         OTH       0.24      0.18      0.20        79\n",
            "\n",
            "    accuracy                           0.67       776\n",
            "   macro avg       0.52      0.51      0.51       776\n",
            "weighted avg       0.66      0.67      0.66       776\n",
            "\n"
          ]
        },
        {
          "output_type": "display_data",
          "data": {
            "text/plain": [
              "<Figure size 600x500 with 2 Axes>"
            ],
            "image/png": "[encoded data removed]"
          },
          "metadata": {}
        }
      ],
      "source": [
        "best_est_c = best_est_c_bert if best_score_c_bert > best_score_c_tfidf else best_est_c_tfidf\n",
        "best_name_c = f\"{best_name_c_bert}_BERT\" if best_score_c_bert > best_score_c_tfidf else best_name_c_tfidf\n",
        "is_bert_c = best_score_c_bert > best_score_c_tfidf\n",
        "y_val_pred_c = best_est_c.predict(X_val_c_bert if is_bert_c else X_val_c_tfidf)\n",
        "acc_c = accuracy_score(y_val_c, y_val_pred_c)\n",
        "print(f\"\\nSubtask C Best Model: {best_name_c}\")\n",
        "print(f\"Validation Accuracy: {acc_c:.4f}\")\n",
        "print(classification_report(y_val_c, y_val_pred_c))\n",
        "plot_confusion_matrix(y_val_c, y_val_pred_c, ['IND', 'GRP', 'OTH'], \"Subtask C Confusion Matrix\")"
      ]
    },
    {
      "cell_type": "code",
      "execution_count": null,
      "metadata": {
        "id": "jsRuJbK2Y6mf",
        "colab": {
          "base_uri": "https://localhost:8080/"
        },
        "outputId": "5a14f1a2-1f9e-42e2-88e2-5a9f16367d22"
      },
      "outputs": [
        {
          "output_type": "stream",
          "name": "stdout",
          "text": [
            "Subtask C model saved as 'best_model_subtask_c.pkl'\n"
          ]
        }
      ],
      "source": [
        "joblib.dump(best_est_c, 'best_model_subtask_c.pkl')\n",
        "print(\"Subtask C model saved as 'best_model_subtask_c.pkl'\")"
      ]
    },
    {
      "cell_type": "markdown",
      "source": [
        "# **Prediction in Real Time**"
      ],
      "metadata": {
        "id": "OHyjB7ygWa_C"
      }
    },
    {
      "cell_type": "code",
      "execution_count": null,
      "metadata": {
        "id": "NUSSaaJCY8wh"
      },
      "outputs": [],
      "source": [
        "# Step 7: Prediction Pipeline—load and roll\n",
        "best_est_a = joblib.load('best_model_subtask_a.pkl')\n",
        "best_est_b = joblib.load('best_model_subtask_b.pkl')\n",
        "best_est_c = joblib.load('best_model_subtask_c.pkl')"
      ]
    },
    {
      "cell_type": "code",
      "execution_count": null,
      "metadata": {
        "id": "EPP-wPOfY-3n"
      },
      "outputs": [],
      "source": [
        "def predict_olid(tweet):\n",
        "    \"\"\"Predict with the saved models.\"\"\"\n",
        "    clean_text = preprocess_tweet(tweet)\n",
        "    X_tfidf_test = tfidf_vectorizer.transform([clean_text])\n",
        "    X_bert_test = get_bert_embeddings([clean_text])\n",
        "\n",
        "    pred_a = best_est_a.predict(X_bert_test if \"BERT\" in best_name_a else X_tfidf_test)[0]\n",
        "    if pred_a == 'NOT':\n",
        "        return (\"NOT\", None, None)\n",
        "\n",
        "    pred_b = best_est_b.predict(X_bert_test if \"BERT\" in best_name_b else X_tfidf_test)[0]\n",
        "    if pred_b == 'UNT':\n",
        "        return (\"OFF\", \"UNT\", None)\n",
        "\n",
        "    pred_c = best_est_c.predict(X_bert_test if \"BERT\" in best_name_c else X_tfidf_test)[0]\n",
        "    return (\"OFF\", \"TIN\", pred_c)"
      ]
    },
    {
      "cell_type": "code",
      "execution_count": null,
      "metadata": {
        "id": "M2xwMTLwZBfi",
        "colab": {
          "base_uri": "https://localhost:8080/"
        },
        "outputId": "8b7cbfb4-7216-498f-a990-f1190f05d617"
      },
      "outputs": [
        {
          "output_type": "stream",
          "name": "stdout",
          "text": [
            "\n",
            "Testing the pipeline with saved models:\n",
            "Tweet: @USER You’re a total jerk!\n",
            "Prediction: ('OFF', 'TIN', 'IND')\n",
            "\n",
            "Tweet: @USER This is fine, I guess\n",
            "Prediction: ('NOT', None, None)\n",
            "\n",
            "Tweet: @USER Hate this stupid group!\n",
            "Prediction: ('OFF', 'TIN', 'GRP')\n",
            "\n"
          ]
        }
      ],
      "source": [
        "# Test it out\n",
        "test_tweets = [\n",
        "    \"@USER You’re a total jerk!\",\n",
        "    \"@USER This is fine, I guess\",\n",
        "    \"@USER Hate this stupid group!\"\n",
        "]\n",
        "print(\"\\nTesting the pipeline with saved models:\")\n",
        "for tweet in test_tweets:\n",
        "    print(f\"Tweet: {tweet}\")\n",
        "    print(f\"Prediction: {predict_olid(tweet)}\\n\")"
      ]
    }
  ],
  "metadata": {
    "accelerator": "GPU",
    "colab": {
      "gpuType": "T4",
      "provenance": []
    },
    "kernelspec": {
      "display_name": "Python 3",
      "name": "python3"
    },
    "language_info": {
      "name": "python"
    },
    "widgets": {
      "application/vnd.jupyter.widget-state+json": {
        "e6d1353fbc974b7e8a94989c500f7b8f": {
          "model_module": "@jupyter-widgets/controls",
          "model_name": "HBoxModel",
          "model_module_version": "1.5.0",
          "state": {
            "_dom_classes": [],
            "_model_module": "@jupyter-widgets/controls",
            "_model_module_version": "1.5.0",
            "_model_name": "HBoxModel",
            "_view_count": null,
            "_view_module": "@jupyter-widgets/controls",
            "_view_module_version": "1.5.0",
            "_view_name": "HBoxView",
            "box_style": "",
            "children": [
              "IPY_MODEL_4042f30089ac47358d2e2e809c1f121d",
              "IPY_MODEL_b3c6333ecdd74b8f8f72088fe1eae0fb",
              "IPY_MODEL_25439fb3868a4dbbacba46e0fdd19b60"
            ],
            "layout": "IPY_MODEL_97bdc020a0724be7aa9bef04a3fc4e87"
          }
        },
        "4042f30089ac47358d2e2e809c1f121d": {
          "model_module": "@jupyter-widgets/controls",
          "model_name": "HTMLModel",
          "model_module_version": "1.5.0",
          "state": {
            "_dom_classes": [],
            "_model_module": "@jupyter-widgets/controls",
            "_model_module_version": "1.5.0",
            "_model_name": "HTMLModel",
            "_view_count": null,
            "_view_module": "@jupyter-widgets/controls",
            "_view_module_version": "1.5.0",
            "_view_name": "HTMLView",
            "description": "",
            "description_tooltip": null,
            "layout": "IPY_MODEL_cfd3e48d37de4cd5914d3323a7c3fa1d",
            "placeholder": "​",
            "style": "IPY_MODEL_b0bad965551f4ba4988ccff33cb3d74c",
            "value": "tokenizer_config.json: 100%"
          }
        },
        "b3c6333ecdd74b8f8f72088fe1eae0fb": {
          "model_module": "@jupyter-widgets/controls",
          "model_name": "FloatProgressModel",
          "model_module_version": "1.5.0",
          "state": {
            "_dom_classes": [],
            "_model_module": "@jupyter-widgets/controls",
            "_model_module_version": "1.5.0",
            "_model_name": "FloatProgressModel",
            "_view_count": null,
            "_view_module": "@jupyter-widgets/controls",
            "_view_module_version": "1.5.0",
            "_view_name": "ProgressView",
            "bar_style": "success",
            "description": "",
            "description_tooltip": null,
            "layout": "IPY_MODEL_914540855d0a48c2a687e34edeefbf10",
            "max": 48,
            "min": 0,
            "orientation": "horizontal",
            "style": "IPY_MODEL_c894fd696c8641d58ce753e17b24f32a",
            "value": 48
          }
        },
        "25439fb3868a4dbbacba46e0fdd19b60": {
          "model_module": "@jupyter-widgets/controls",
          "model_name": "HTMLModel",
          "model_module_version": "1.5.0",
          "state": {
            "_dom_classes": [],
            "_model_module": "@jupyter-widgets/controls",
            "_model_module_version": "1.5.0",
            "_model_name": "HTMLModel",
            "_view_count": null,
            "_view_module": "@jupyter-widgets/controls",
            "_view_module_version": "1.5.0",
            "_view_name": "HTMLView",
            "description": "",
            "description_tooltip": null,
            "layout": "IPY_MODEL_f534f6074ae14d7fba80caac3ac0d8f5",
            "placeholder": "​",
            "style": "IPY_MODEL_896622448da14d1ab879c519b61d5242",
            "value": " 48.0/48.0 [00:00&lt;00:00, 5.08kB/s]"
          }
        },
        "97bdc020a0724be7aa9bef04a3fc4e87": {
          "model_module": "@jupyter-widgets/base",
          "model_name": "LayoutModel",
          "model_module_version": "1.2.0",
          "state": {
            "_model_module": "@jupyter-widgets/base",
            "_model_module_version": "1.2.0",
            "_model_name": "LayoutModel",
            "_view_count": null,
            "_view_module": "@jupyter-widgets/base",
            "_view_module_version": "1.2.0",
            "_view_name": "LayoutView",
            "align_content": null,
            "align_items": null,
            "align_self": null,
            "border": null,
            "bottom": null,
            "display": null,
            "flex": null,
            "flex_flow": null,
            "grid_area": null,
            "grid_auto_columns": null,
            "grid_auto_flow": null,
            "grid_auto_rows": null,
            "grid_column": null,
            "grid_gap": null,
            "grid_row": null,
            "grid_template_areas": null,
            "grid_template_columns": null,
            "grid_template_rows": null,
            "height": null,
            "justify_content": null,
            "justify_items": null,
            "left": null,
            "margin": null,
            "max_height": null,
            "max_width": null,
            "min_height": null,
            "min_width": null,
            "object_fit": null,
            "object_position": null,
            "order": null,
            "overflow": null,
            "overflow_x": null,
            "overflow_y": null,
            "padding": null,
            "right": null,
            "top": null,
            "visibility": null,
            "width": null
          }
        },
        "cfd3e48d37de4cd5914d3323a7c3fa1d": {
          "model_module": "@jupyter-widgets/base",
          "model_name": "LayoutModel",
          "model_module_version": "1.2.0",
          "state": {
            "_model_module": "@jupyter-widgets/base",
            "_model_module_version": "1.2.0",
            "_model_name": "LayoutModel",
            "_view_count": null,
            "_view_module": "@jupyter-widgets/base",
            "_view_module_version": "1.2.0",
            "_view_name": "LayoutView",
            "align_content": null,
            "align_items": null,
            "align_self": null,
            "border": null,
            "bottom": null,
            "display": null,
            "flex": null,
            "flex_flow": null,
            "grid_area": null,
            "grid_auto_columns": null,
            "grid_auto_flow": null,
            "grid_auto_rows": null,
            "grid_column": null,
            "grid_gap": null,
            "grid_row": null,
            "grid_template_areas": null,
            "grid_template_columns": null,
            "grid_template_rows": null,
            "height": null,
            "justify_content": null,
            "justify_items": null,
            "left": null,
            "margin": null,
            "max_height": null,
            "max_width": null,
            "min_height": null,
            "min_width": null,
            "object_fit": null,
            "object_position": null,
            "order": null,
            "overflow": null,
            "overflow_x": null,
            "overflow_y": null,
            "padding": null,
            "right": null,
            "top": null,
            "visibility": null,
            "width": null
          }
        },
        "b0bad965551f4ba4988ccff33cb3d74c": {
          "model_module": "@jupyter-widgets/controls",
          "model_name": "DescriptionStyleModel",
          "model_module_version": "1.5.0",
          "state": {
            "_model_module": "@jupyter-widgets/controls",
            "_model_module_version": "1.5.0",
            "_model_name": "DescriptionStyleModel",
            "_view_count": null,
            "_view_module": "@jupyter-widgets/base",
            "_view_module_version": "1.2.0",
            "_view_name": "StyleView",
            "description_width": ""
          }
        },
        "914540855d0a48c2a687e34edeefbf10": {
          "model_module": "@jupyter-widgets/base",
          "model_name": "LayoutModel",
          "model_module_version": "1.2.0",
          "state": {
            "_model_module": "@jupyter-widgets/base",
            "_model_module_version": "1.2.0",
            "_model_name": "LayoutModel",
            "_view_count": null,
            "_view_module": "@jupyter-widgets/base",
            "_view_module_version": "1.2.0",
            "_view_name": "LayoutView",
            "align_content": null,
            "align_items": null,
            "align_self": null,
            "border": null,
            "bottom": null,
            "display": null,
            "flex": null,
            "flex_flow": null,
            "grid_area": null,
            "grid_auto_columns": null,
            "grid_auto_flow": null,
            "grid_auto_rows": null,
            "grid_column": null,
            "grid_gap": null,
            "grid_row": null,
            "grid_template_areas": null,
            "grid_template_columns": null,
            "grid_template_rows": null,
            "height": null,
            "justify_content": null,
            "justify_items": null,
            "left": null,
            "margin": null,
            "max_height": null,
            "max_width": null,
            "min_height": null,
            "min_width": null,
            "object_fit": null,
            "object_position": null,
            "order": null,
            "overflow": null,
            "overflow_x": null,
            "overflow_y": null,
            "padding": null,
            "right": null,
            "top": null,
            "visibility": null,
            "width": null
          }
        },
        "c894fd696c8641d58ce753e17b24f32a": {
          "model_module": "@jupyter-widgets/controls",
          "model_name": "ProgressStyleModel",
          "model_module_version": "1.5.0",
          "state": {
            "_model_module": "@jupyter-widgets/controls",
            "_model_module_version": "1.5.0",
            "_model_name": "ProgressStyleModel",
            "_view_count": null,
            "_view_module": "@jupyter-widgets/base",
            "_view_module_version": "1.2.0",
            "_view_name": "StyleView",
            "bar_color": null,
            "description_width": ""
          }
        },
        "f534f6074ae14d7fba80caac3ac0d8f5": {
          "model_module": "@jupyter-widgets/base",
          "model_name": "LayoutModel",
          "model_module_version": "1.2.0",
          "state": {
            "_model_module": "@jupyter-widgets/base",
            "_model_module_version": "1.2.0",
            "_model_name": "LayoutModel",
            "_view_count": null,
            "_view_module": "@jupyter-widgets/base",
            "_view_module_version": "1.2.0",
            "_view_name": "LayoutView",
            "align_content": null,
            "align_items": null,
            "align_self": null,
            "border": null,
            "bottom": null,
            "display": null,
            "flex": null,
            "flex_flow": null,
            "grid_area": null,
            "grid_auto_columns": null,
            "grid_auto_flow": null,
            "grid_auto_rows": null,
            "grid_column": null,
            "grid_gap": null,
            "grid_row": null,
            "grid_template_areas": null,
            "grid_template_columns": null,
            "grid_template_rows": null,
            "height": null,
            "justify_content": null,
            "justify_items": null,
            "left": null,
            "margin": null,
            "max_height": null,
            "max_width": null,
            "min_height": null,
            "min_width": null,
            "object_fit": null,
            "object_position": null,
            "order": null,
            "overflow": null,
            "overflow_x": null,
            "overflow_y": null,
            "padding": null,
            "right": null,
            "top": null,
            "visibility": null,
            "width": null
          }
        },
        "896622448da14d1ab879c519b61d5242": {
          "model_module": "@jupyter-widgets/controls",
          "model_name": "DescriptionStyleModel",
          "model_module_version": "1.5.0",
          "state": {
            "_model_module": "@jupyter-widgets/controls",
            "_model_module_version": "1.5.0",
            "_model_name": "DescriptionStyleModel",
            "_view_count": null,
            "_view_module": "@jupyter-widgets/base",
            "_view_module_version": "1.2.0",
            "_view_name": "StyleView",
            "description_width": ""
          }
        },
        "28eb723fee3949aabff8a8e950190606": {
          "model_module": "@jupyter-widgets/controls",
          "model_name": "HBoxModel",
          "model_module_version": "1.5.0",
          "state": {
            "_dom_classes": [],
            "_model_module": "@jupyter-widgets/controls",
            "_model_module_version": "1.5.0",
            "_model_name": "HBoxModel",
            "_view_count": null,
            "_view_module": "@jupyter-widgets/controls",
            "_view_module_version": "1.5.0",
            "_view_name": "HBoxView",
            "box_style": "",
            "children": [
              "IPY_MODEL_2fedccd0265a4432868472e6e5d8d18d",
              "IPY_MODEL_22923d8f98a44745a71e728ed1045f4f",
              "IPY_MODEL_8d0813a46685435fa6ffed9d7242c236"
            ],
            "layout": "IPY_MODEL_aa6ee9a326e141f7b18a060709256d8a"
          }
        },
        "2fedccd0265a4432868472e6e5d8d18d": {
          "model_module": "@jupyter-widgets/controls",
          "model_name": "HTMLModel",
          "model_module_version": "1.5.0",
          "state": {
            "_dom_classes": [],
            "_model_module": "@jupyter-widgets/controls",
            "_model_module_version": "1.5.0",
            "_model_name": "HTMLModel",
            "_view_count": null,
            "_view_module": "@jupyter-widgets/controls",
            "_view_module_version": "1.5.0",
            "_view_name": "HTMLView",
            "description": "",
            "description_tooltip": null,
            "layout": "IPY_MODEL_76567711f3e34774af9ead3ff6e71379",
            "placeholder": "​",
            "style": "IPY_MODEL_70831e262d9b4445b3f8423d9a6c9162",
            "value": "vocab.txt: 100%"
          }
        },
        "22923d8f98a44745a71e728ed1045f4f": {
          "model_module": "@jupyter-widgets/controls",
          "model_name": "FloatProgressModel",
          "model_module_version": "1.5.0",
          "state": {
            "_dom_classes": [],
            "_model_module": "@jupyter-widgets/controls",
            "_model_module_version": "1.5.0",
            "_model_name": "FloatProgressModel",
            "_view_count": null,
            "_view_module": "@jupyter-widgets/controls",
            "_view_module_version": "1.5.0",
            "_view_name": "ProgressView",
            "bar_style": "success",
            "description": "",
            "description_tooltip": null,
            "layout": "IPY_MODEL_0c9118e5b83b4f1da368cb172f18fb25",
            "max": 231508,
            "min": 0,
            "orientation": "horizontal",
            "style": "IPY_MODEL_3d19fc6aace04e9ea724e072426ba49c",
            "value": 231508
          }
        },
        "8d0813a46685435fa6ffed9d7242c236": {
          "model_module": "@jupyter-widgets/controls",
          "model_name": "HTMLModel",
          "model_module_version": "1.5.0",
          "state": {
            "_dom_classes": [],
            "_model_module": "@jupyter-widgets/controls",
            "_model_module_version": "1.5.0",
            "_model_name": "HTMLModel",
            "_view_count": null,
            "_view_module": "@jupyter-widgets/controls",
            "_view_module_version": "1.5.0",
            "_view_name": "HTMLView",
            "description": "",
            "description_tooltip": null,
            "layout": "IPY_MODEL_ce8b866ad7ed4e26a0a23675a7970771",
            "placeholder": "​",
            "style": "IPY_MODEL_5619d457fd93486c995e971163cc8edd",
            "value": " 232k/232k [00:00&lt;00:00, 2.90MB/s]"
          }
        },
        "aa6ee9a326e141f7b18a060709256d8a": {
          "model_module": "@jupyter-widgets/base",
          "model_name": "LayoutModel",
          "model_module_version": "1.2.0",
          "state": {
            "_model_module": "@jupyter-widgets/base",
            "_model_module_version": "1.2.0",
            "_model_name": "LayoutModel",
            "_view_count": null,
            "_view_module": "@jupyter-widgets/base",
            "_view_module_version": "1.2.0",
            "_view_name": "LayoutView",
            "align_content": null,
            "align_items": null,
            "align_self": null,
            "border": null,
            "bottom": null,
            "display": null,
            "flex": null,
            "flex_flow": null,
            "grid_area": null,
            "grid_auto_columns": null,
            "grid_auto_flow": null,
            "grid_auto_rows": null,
            "grid_column": null,
            "grid_gap": null,
            "grid_row": null,
            "grid_template_areas": null,
            "grid_template_columns": null,
            "grid_template_rows": null,
            "height": null,
            "justify_content": null,
            "justify_items": null,
            "left": null,
            "margin": null,
            "max_height": null,
            "max_width": null,
            "min_height": null,
            "min_width": null,
            "object_fit": null,
            "object_position": null,
            "order": null,
            "overflow": null,
            "overflow_x": null,
            "overflow_y": null,
            "padding": null,
            "right": null,
            "top": null,
            "visibility": null,
            "width": null
          }
        },
        "76567711f3e34774af9ead3ff6e71379": {
          "model_module": "@jupyter-widgets/base",
          "model_name": "LayoutModel",
          "model_module_version": "1.2.0",
          "state": {
            "_model_module": "@jupyter-widgets/base",
            "_model_module_version": "1.2.0",
            "_model_name": "LayoutModel",
            "_view_count": null,
            "_view_module": "@jupyter-widgets/base",
            "_view_module_version": "1.2.0",
            "_view_name": "LayoutView",
            "align_content": null,
            "align_items": null,
            "align_self": null,
            "border": null,
            "bottom": null,
            "display": null,
            "flex": null,
            "flex_flow": null,
            "grid_area": null,
            "grid_auto_columns": null,
            "grid_auto_flow": null,
            "grid_auto_rows": null,
            "grid_column": null,
            "grid_gap": null,
            "grid_row": null,
            "grid_template_areas": null,
            "grid_template_columns": null,
            "grid_template_rows": null,
            "height": null,
            "justify_content": null,
            "justify_items": null,
            "left": null,
            "margin": null,
            "max_height": null,
            "max_width": null,
            "min_height": null,
            "min_width": null,
            "object_fit": null,
            "object_position": null,
            "order": null,
            "overflow": null,
            "overflow_x": null,
            "overflow_y": null,
            "padding": null,
            "right": null,
            "top": null,
            "visibility": null,
            "width": null
          }
        },
        "70831e262d9b4445b3f8423d9a6c9162": {
          "model_module": "@jupyter-widgets/controls",
          "model_name": "DescriptionStyleModel",
          "model_module_version": "1.5.0",
          "state": {
            "_model_module": "@jupyter-widgets/controls",
            "_model_module_version": "1.5.0",
            "_model_name": "DescriptionStyleModel",
            "_view_count": null,
            "_view_module": "@jupyter-widgets/base",
            "_view_module_version": "1.2.0",
            "_view_name": "StyleView",
            "description_width": ""
          }
        },
        "0c9118e5b83b4f1da368cb172f18fb25": {
          "model_module": "@jupyter-widgets/base",
          "model_name": "LayoutModel",
          "model_module_version": "1.2.0",
          "state": {
            "_model_module": "@jupyter-widgets/base",
            "_model_module_version": "1.2.0",
            "_model_name": "LayoutModel",
            "_view_count": null,
            "_view_module": "@jupyter-widgets/base",
            "_view_module_version": "1.2.0",
            "_view_name": "LayoutView",
            "align_content": null,
            "align_items": null,
            "align_self": null,
            "border": null,
            "bottom": null,
            "display": null,
            "flex": null,
            "flex_flow": null,
            "grid_area": null,
            "grid_auto_columns": null,
            "grid_auto_flow": null,
            "grid_auto_rows": null,
            "grid_column": null,
            "grid_gap": null,
            "grid_row": null,
            "grid_template_areas": null,
            "grid_template_columns": null,
            "grid_template_rows": null,
            "height": null,
            "justify_content": null,
            "justify_items": null,
            "left": null,
            "margin": null,
            "max_height": null,
            "max_width": null,
            "min_height": null,
            "min_width": null,
            "object_fit": null,
            "object_position": null,
            "order": null,
            "overflow": null,
            "overflow_x": null,
            "overflow_y": null,
            "padding": null,
            "right": null,
            "top": null,
            "visibility": null,
            "width": null
          }
        },
        "3d19fc6aace04e9ea724e072426ba49c": {
          "model_module": "@jupyter-widgets/controls",
          "model_name": "ProgressStyleModel",
          "model_module_version": "1.5.0",
          "state": {
            "_model_module": "@jupyter-widgets/controls",
            "_model_module_version": "1.5.0",
            "_model_name": "ProgressStyleModel",
            "_view_count": null,
            "_view_module": "@jupyter-widgets/base",
            "_view_module_version": "1.2.0",
            "_view_name": "StyleView",
            "bar_color": null,
            "description_width": ""
          }
        },
        "ce8b866ad7ed4e26a0a23675a7970771": {
          "model_module": "@jupyter-widgets/base",
          "model_name": "LayoutModel",
          "model_module_version": "1.2.0",
          "state": {
            "_model_module": "@jupyter-widgets/base",
            "_model_module_version": "1.2.0",
            "_model_name": "LayoutModel",
            "_view_count": null,
            "_view_module": "@jupyter-widgets/base",
            "_view_module_version": "1.2.0",
            "_view_name": "LayoutView",
            "align_content": null,
            "align_items": null,
            "align_self": null,
            "border": null,
            "bottom": null,
            "display": null,
            "flex": null,
            "flex_flow": null,
            "grid_area": null,
            "grid_auto_columns": null,
            "grid_auto_flow": null,
            "grid_auto_rows": null,
            "grid_column": null,
            "grid_gap": null,
            "grid_row": null,
            "grid_template_areas": null,
            "grid_template_columns": null,
            "grid_template_rows": null,
            "height": null,
            "justify_content": null,
            "justify_items": null,
            "left": null,
            "margin": null,
            "max_height": null,
            "max_width": null,
            "min_height": null,
            "min_width": null,
            "object_fit": null,
            "object_position": null,
            "order": null,
            "overflow": null,
            "overflow_x": null,
            "overflow_y": null,
            "padding": null,
            "right": null,
            "top": null,
            "visibility": null,
            "width": null
          }
        },
        "5619d457fd93486c995e971163cc8edd": {
          "model_module": "@jupyter-widgets/controls",
          "model_name": "DescriptionStyleModel",
          "model_module_version": "1.5.0",
          "state": {
            "_model_module": "@jupyter-widgets/controls",
            "_model_module_version": "1.5.0",
            "_model_name": "DescriptionStyleModel",
            "_view_count": null,
            "_view_module": "@jupyter-widgets/base",
            "_view_module_version": "1.2.0",
            "_view_name": "StyleView",
            "description_width": ""
          }
        },
        "3312d66be0654d698c50eb7f079c5b51": {
          "model_module": "@jupyter-widgets/controls",
          "model_name": "HBoxModel",
          "model_module_version": "1.5.0",
          "state": {
            "_dom_classes": [],
            "_model_module": "@jupyter-widgets/controls",
            "_model_module_version": "1.5.0",
            "_model_name": "HBoxModel",
            "_view_count": null,
            "_view_module": "@jupyter-widgets/controls",
            "_view_module_version": "1.5.0",
            "_view_name": "HBoxView",
            "box_style": "",
            "children": [
              "IPY_MODEL_6e1cc16a652d4220ac46cedf39a44ef5",
              "IPY_MODEL_32e5bc05fa664265a8016a974d626644",
              "IPY_MODEL_e8ff5f70a0104e15af2999902a144268"
            ],
            "layout": "IPY_MODEL_9ce23d530c4e44f498f2451ac481070a"
          }
        },
        "6e1cc16a652d4220ac46cedf39a44ef5": {
          "model_module": "@jupyter-widgets/controls",
          "model_name": "HTMLModel",
          "model_module_version": "1.5.0",
          "state": {
            "_dom_classes": [],
            "_model_module": "@jupyter-widgets/controls",
            "_model_module_version": "1.5.0",
            "_model_name": "HTMLModel",
            "_view_count": null,
            "_view_module": "@jupyter-widgets/controls",
            "_view_module_version": "1.5.0",
            "_view_name": "HTMLView",
            "description": "",
            "description_tooltip": null,
            "layout": "IPY_MODEL_f047f2bb75f04fb2b67fa105374e95f7",
            "placeholder": "​",
            "style": "IPY_MODEL_583641df675c400a96409b88a7132ba1",
            "value": "tokenizer.json: 100%"
          }
        },
        "32e5bc05fa664265a8016a974d626644": {
          "model_module": "@jupyter-widgets/controls",
          "model_name": "FloatProgressModel",
          "model_module_version": "1.5.0",
          "state": {
            "_dom_classes": [],
            "_model_module": "@jupyter-widgets/controls",
            "_model_module_version": "1.5.0",
            "_model_name": "FloatProgressModel",
            "_view_count": null,
            "_view_module": "@jupyter-widgets/controls",
            "_view_module_version": "1.5.0",
            "_view_name": "ProgressView",
            "bar_style": "success",
            "description": "",
            "description_tooltip": null,
            "layout": "IPY_MODEL_530ef947fed74ff5af90ef13eb46c906",
            "max": 466062,
            "min": 0,
            "orientation": "horizontal",
            "style": "IPY_MODEL_381ef91189334eea8456f0b82d74f9a7",
            "value": 466062
          }
        },
        "e8ff5f70a0104e15af2999902a144268": {
          "model_module": "@jupyter-widgets/controls",
          "model_name": "HTMLModel",
          "model_module_version": "1.5.0",
          "state": {
            "_dom_classes": [],
            "_model_module": "@jupyter-widgets/controls",
            "_model_module_version": "1.5.0",
            "_model_name": "HTMLModel",
            "_view_count": null,
            "_view_module": "@jupyter-widgets/controls",
            "_view_module_version": "1.5.0",
            "_view_name": "HTMLView",
            "description": "",
            "description_tooltip": null,
            "layout": "IPY_MODEL_27074b9eda6f48348d33e8f026dd0b63",
            "placeholder": "​",
            "style": "IPY_MODEL_0d474a5ed5a8424692b8ad14d6e726b4",
            "value": " 466k/466k [00:00&lt;00:00, 6.25MB/s]"
          }
        },
        "9ce23d530c4e44f498f2451ac481070a": {
          "model_module": "@jupyter-widgets/base",
          "model_name": "LayoutModel",
          "model_module_version": "1.2.0",
          "state": {
            "_model_module": "@jupyter-widgets/base",
            "_model_module_version": "1.2.0",
            "_model_name": "LayoutModel",
            "_view_count": null,
            "_view_module": "@jupyter-widgets/base",
            "_view_module_version": "1.2.0",
            "_view_name": "LayoutView",
            "align_content": null,
            "align_items": null,
            "align_self": null,
            "border": null,
            "bottom": null,
            "display": null,
            "flex": null,
            "flex_flow": null,
            "grid_area": null,
            "grid_auto_columns": null,
            "grid_auto_flow": null,
            "grid_auto_rows": null,
            "grid_column": null,
            "grid_gap": null,
            "grid_row": null,
            "grid_template_areas": null,
            "grid_template_columns": null,
            "grid_template_rows": null,
            "height": null,
            "justify_content": null,
            "justify_items": null,
            "left": null,
            "margin": null,
            "max_height": null,
            "max_width": null,
            "min_height": null,
            "min_width": null,
            "object_fit": null,
            "object_position": null,
            "order": null,
            "overflow": null,
            "overflow_x": null,
            "overflow_y": null,
            "padding": null,
            "right": null,
            "top": null,
            "visibility": null,
            "width": null
          }
        },
        "f047f2bb75f04fb2b67fa105374e95f7": {
          "model_module": "@jupyter-widgets/base",
          "model_name": "LayoutModel",
          "model_module_version": "1.2.0",
          "state": {
            "_model_module": "@jupyter-widgets/base",
            "_model_module_version": "1.2.0",
            "_model_name": "LayoutModel",
            "_view_count": null,
            "_view_module": "@jupyter-widgets/base",
            "_view_module_version": "1.2.0",
            "_view_name": "LayoutView",
            "align_content": null,
            "align_items": null,
            "align_self": null,
            "border": null,
            "bottom": null,
            "display": null,
            "flex": null,
            "flex_flow": null,
            "grid_area": null,
            "grid_auto_columns": null,
            "grid_auto_flow": null,
            "grid_auto_rows": null,
            "grid_column": null,
            "grid_gap": null,
            "grid_row": null,
            "grid_template_areas": null,
            "grid_template_columns": null,
            "grid_template_rows": null,
            "height": null,
            "justify_content": null,
            "justify_items": null,
            "left": null,
            "margin": null,
            "max_height": null,
            "max_width": null,
            "min_height": null,
            "min_width": null,
            "object_fit": null,
            "object_position": null,
            "order": null,
            "overflow": null,
            "overflow_x": null,
            "overflow_y": null,
            "padding": null,
            "right": null,
            "top": null,
            "visibility": null,
            "width": null
          }
        },
        "583641df675c400a96409b88a7132ba1": {
          "model_module": "@jupyter-widgets/controls",
          "model_name": "DescriptionStyleModel",
          "model_module_version": "1.5.0",
          "state": {
            "_model_module": "@jupyter-widgets/controls",
            "_model_module_version": "1.5.0",
            "_model_name": "DescriptionStyleModel",
            "_view_count": null,
            "_view_module": "@jupyter-widgets/base",
            "_view_module_version": "1.2.0",
            "_view_name": "StyleView",
            "description_width": ""
          }
        },
        "530ef947fed74ff5af90ef13eb46c906": {
          "model_module": "@jupyter-widgets/base",
          "model_name": "LayoutModel",
          "model_module_version": "1.2.0",
          "state": {
            "_model_module": "@jupyter-widgets/base",
            "_model_module_version": "1.2.0",
            "_model_name": "LayoutModel",
            "_view_count": null,
            "_view_module": "@jupyter-widgets/base",
            "_view_module_version": "1.2.0",
            "_view_name": "LayoutView",
            "align_content": null,
            "align_items": null,
            "align_self": null,
            "border": null,
            "bottom": null,
            "display": null,
            "flex": null,
            "flex_flow": null,
            "grid_area": null,
            "grid_auto_columns": null,
            "grid_auto_flow": null,
            "grid_auto_rows": null,
            "grid_column": null,
            "grid_gap": null,
            "grid_row": null,
            "grid_template_areas": null,
            "grid_template_columns": null,
            "grid_template_rows": null,
            "height": null,
            "justify_content": null,
            "justify_items": null,
            "left": null,
            "margin": null,
            "max_height": null,
            "max_width": null,
            "min_height": null,
            "min_width": null,
            "object_fit": null,
            "object_position": null,
            "order": null,
            "overflow": null,
            "overflow_x": null,
            "overflow_y": null,
            "padding": null,
            "right": null,
            "top": null,
            "visibility": null,
            "width": null
          }
        },
        "381ef91189334eea8456f0b82d74f9a7": {
          "model_module": "@jupyter-widgets/controls",
          "model_name": "ProgressStyleModel",
          "model_module_version": "1.5.0",
          "state": {
            "_model_module": "@jupyter-widgets/controls",
            "_model_module_version": "1.5.0",
            "_model_name": "ProgressStyleModel",
            "_view_count": null,
            "_view_module": "@jupyter-widgets/base",
            "_view_module_version": "1.2.0",
            "_view_name": "StyleView",
            "bar_color": null,
            "description_width": ""
          }
        },
        "27074b9eda6f48348d33e8f026dd0b63": {
          "model_module": "@jupyter-widgets/base",
          "model_name": "LayoutModel",
          "model_module_version": "1.2.0",
          "state": {
            "_model_module": "@jupyter-widgets/base",
            "_model_module_version": "1.2.0",
            "_model_name": "LayoutModel",
            "_view_count": null,
            "_view_module": "@jupyter-widgets/base",
            "_view_module_version": "1.2.0",
            "_view_name": "LayoutView",
            "align_content": null,
            "align_items": null,
            "align_self": null,
            "border": null,
            "bottom": null,
            "display": null,
            "flex": null,
            "flex_flow": null,
            "grid_area": null,
            "grid_auto_columns": null,
            "grid_auto_flow": null,
            "grid_auto_rows": null,
            "grid_column": null,
            "grid_gap": null,
            "grid_row": null,
            "grid_template_areas": null,
            "grid_template_columns": null,
            "grid_template_rows": null,
            "height": null,
            "justify_content": null,
            "justify_items": null,
            "left": null,
            "margin": null,
            "max_height": null,
            "max_width": null,
            "min_height": null,
            "min_width": null,
            "object_fit": null,
            "object_position": null,
            "order": null,
            "overflow": null,
            "overflow_x": null,
            "overflow_y": null,
            "padding": null,
            "right": null,
            "top": null,
            "visibility": null,
            "width": null
          }
        },
        "0d474a5ed5a8424692b8ad14d6e726b4": {
          "model_module": "@jupyter-widgets/controls",
          "model_name": "DescriptionStyleModel",
          "model_module_version": "1.5.0",
          "state": {
            "_model_module": "@jupyter-widgets/controls",
            "_model_module_version": "1.5.0",
            "_model_name": "DescriptionStyleModel",
            "_view_count": null,
            "_view_module": "@jupyter-widgets/base",
            "_view_module_version": "1.2.0",
            "_view_name": "StyleView",
            "description_width": ""
          }
        },
        "9bfbec9505fd4dcbb1b5943a60695220": {
          "model_module": "@jupyter-widgets/controls",
          "model_name": "HBoxModel",
          "model_module_version": "1.5.0",
          "state": {
            "_dom_classes": [],
            "_model_module": "@jupyter-widgets/controls",
            "_model_module_version": "1.5.0",
            "_model_name": "HBoxModel",
            "_view_count": null,
            "_view_module": "@jupyter-widgets/controls",
            "_view_module_version": "1.5.0",
            "_view_name": "HBoxView",
            "box_style": "",
            "children": [
              "IPY_MODEL_3cd8196cce8a46d794630a92e3498b81",
              "IPY_MODEL_6cb75d5152eb4caebd11c293f1d7e01f",
              "IPY_MODEL_8089893cc53a48e1b3da4f3ff5737b5a"
            ],
            "layout": "IPY_MODEL_4fb02f50a77f454687460d5c68b3e102"
          }
        },
        "3cd8196cce8a46d794630a92e3498b81": {
          "model_module": "@jupyter-widgets/controls",
          "model_name": "HTMLModel",
          "model_module_version": "1.5.0",
          "state": {
            "_dom_classes": [],
            "_model_module": "@jupyter-widgets/controls",
            "_model_module_version": "1.5.0",
            "_model_name": "HTMLModel",
            "_view_count": null,
            "_view_module": "@jupyter-widgets/controls",
            "_view_module_version": "1.5.0",
            "_view_name": "HTMLView",
            "description": "",
            "description_tooltip": null,
            "layout": "IPY_MODEL_73260dd1d29c4b3aba353c1932e0deb7",
            "placeholder": "​",
            "style": "IPY_MODEL_e63ce36e46744e708f52aa3369f6bb14",
            "value": "config.json: 100%"
          }
        },
        "6cb75d5152eb4caebd11c293f1d7e01f": {
          "model_module": "@jupyter-widgets/controls",
          "model_name": "FloatProgressModel",
          "model_module_version": "1.5.0",
          "state": {
            "_dom_classes": [],
            "_model_module": "@jupyter-widgets/controls",
            "_model_module_version": "1.5.0",
            "_model_name": "FloatProgressModel",
            "_view_count": null,
            "_view_module": "@jupyter-widgets/controls",
            "_view_module_version": "1.5.0",
            "_view_name": "ProgressView",
            "bar_style": "success",
            "description": "",
            "description_tooltip": null,
            "layout": "IPY_MODEL_06f2d4e0c3cc4bef892de1911c581e49",
            "max": 570,
            "min": 0,
            "orientation": "horizontal",
            "style": "IPY_MODEL_663455328d4e41c2b4e84a7e54cd5b19",
            "value": 570
          }
        },
        "8089893cc53a48e1b3da4f3ff5737b5a": {
          "model_module": "@jupyter-widgets/controls",
          "model_name": "HTMLModel",
          "model_module_version": "1.5.0",
          "state": {
            "_dom_classes": [],
            "_model_module": "@jupyter-widgets/controls",
            "_model_module_version": "1.5.0",
            "_model_name": "HTMLModel",
            "_view_count": null,
            "_view_module": "@jupyter-widgets/controls",
            "_view_module_version": "1.5.0",
            "_view_name": "HTMLView",
            "description": "",
            "description_tooltip": null,
            "layout": "IPY_MODEL_6b2e95db37424465bdfc6dcdf81f39c9",
            "placeholder": "​",
            "style": "IPY_MODEL_007637ea705946e08f3e264be247ee8e",
            "value": " 570/570 [00:00&lt;00:00, 46.2kB/s]"
          }
        },
        "4fb02f50a77f454687460d5c68b3e102": {
          "model_module": "@jupyter-widgets/base",
          "model_name": "LayoutModel",
          "model_module_version": "1.2.0",
          "state": {
            "_model_module": "@jupyter-widgets/base",
            "_model_module_version": "1.2.0",
            "_model_name": "LayoutModel",
            "_view_count": null,
            "_view_module": "@jupyter-widgets/base",
            "_view_module_version": "1.2.0",
            "_view_name": "LayoutView",
            "align_content": null,
            "align_items": null,
            "align_self": null,
            "border": null,
            "bottom": null,
            "display": null,
            "flex": null,
            "flex_flow": null,
            "grid_area": null,
            "grid_auto_columns": null,
            "grid_auto_flow": null,
            "grid_auto_rows": null,
            "grid_column": null,
            "grid_gap": null,
            "grid_row": null,
            "grid_template_areas": null,
            "grid_template_columns": null,
            "grid_template_rows": null,
            "height": null,
            "justify_content": null,
            "justify_items": null,
            "left": null,
            "margin": null,
            "max_height": null,
            "max_width": null,
            "min_height": null,
            "min_width": null,
            "object_fit": null,
            "object_position": null,
            "order": null,
            "overflow": null,
            "overflow_x": null,
            "overflow_y": null,
            "padding": null,
            "right": null,
            "top": null,
            "visibility": null,
            "width": null
          }
        },
        "73260dd1d29c4b3aba353c1932e0deb7": {
          "model_module": "@jupyter-widgets/base",
          "model_name": "LayoutModel",
          "model_module_version": "1.2.0",
          "state": {
            "_model_module": "@jupyter-widgets/base",
            "_model_module_version": "1.2.0",
            "_model_name": "LayoutModel",
            "_view_count": null,
            "_view_module": "@jupyter-widgets/base",
            "_view_module_version": "1.2.0",
            "_view_name": "LayoutView",
            "align_content": null,
            "align_items": null,
            "align_self": null,
            "border": null,
            "bottom": null,
            "display": null,
            "flex": null,
            "flex_flow": null,
            "grid_area": null,
            "grid_auto_columns": null,
            "grid_auto_flow": null,
            "grid_auto_rows": null,
            "grid_column": null,
            "grid_gap": null,
            "grid_row": null,
            "grid_template_areas": null,
            "grid_template_columns": null,
            "grid_template_rows": null,
            "height": null,
            "justify_content": null,
            "justify_items": null,
            "left": null,
            "margin": null,
            "max_height": null,
            "max_width": null,
            "min_height": null,
            "min_width": null,
            "object_fit": null,
            "object_position": null,
            "order": null,
            "overflow": null,
            "overflow_x": null,
            "overflow_y": null,
            "padding": null,
            "right": null,
            "top": null,
            "visibility": null,
            "width": null
          }
        },
        "e63ce36e46744e708f52aa3369f6bb14": {
          "model_module": "@jupyter-widgets/controls",
          "model_name": "DescriptionStyleModel",
          "model_module_version": "1.5.0",
          "state": {
            "_model_module": "@jupyter-widgets/controls",
            "_model_module_version": "1.5.0",
            "_model_name": "DescriptionStyleModel",
            "_view_count": null,
            "_view_module": "@jupyter-widgets/base",
            "_view_module_version": "1.2.0",
            "_view_name": "StyleView",
            "description_width": ""
          }
        },
        "06f2d4e0c3cc4bef892de1911c581e49": {
          "model_module": "@jupyter-widgets/base",
          "model_name": "LayoutModel",
          "model_module_version": "1.2.0",
          "state": {
            "_model_module": "@jupyter-widgets/base",
            "_model_module_version": "1.2.0",
            "_model_name": "LayoutModel",
            "_view_count": null,
            "_view_module": "@jupyter-widgets/base",
            "_view_module_version": "1.2.0",
            "_view_name": "LayoutView",
            "align_content": null,
            "align_items": null,
            "align_self": null,
            "border": null,
            "bottom": null,
            "display": null,
            "flex": null,
            "flex_flow": null,
            "grid_area": null,
            "grid_auto_columns": null,
            "grid_auto_flow": null,
            "grid_auto_rows": null,
            "grid_column": null,
            "grid_gap": null,
            "grid_row": null,
            "grid_template_areas": null,
            "grid_template_columns": null,
            "grid_template_rows": null,
            "height": null,
            "justify_content": null,
            "justify_items": null,
            "left": null,
            "margin": null,
            "max_height": null,
            "max_width": null,
            "min_height": null,
            "min_width": null,
            "object_fit": null,
            "object_position": null,
            "order": null,
            "overflow": null,
            "overflow_x": null,
            "overflow_y": null,
            "padding": null,
            "right": null,
            "top": null,
            "visibility": null,
            "width": null
          }
        },
        "663455328d4e41c2b4e84a7e54cd5b19": {
          "model_module": "@jupyter-widgets/controls",
          "model_name": "ProgressStyleModel",
          "model_module_version": "1.5.0",
          "state": {
            "_model_module": "@jupyter-widgets/controls",
            "_model_module_version": "1.5.0",
            "_model_name": "ProgressStyleModel",
            "_view_count": null,
            "_view_module": "@jupyter-widgets/base",
            "_view_module_version": "1.2.0",
            "_view_name": "StyleView",
            "bar_color": null,
            "description_width": ""
          }
        },
        "6b2e95db37424465bdfc6dcdf81f39c9": {
          "model_module": "@jupyter-widgets/base",
          "model_name": "LayoutModel",
          "model_module_version": "1.2.0",
          "state": {
            "_model_module": "@jupyter-widgets/base",
            "_model_module_version": "1.2.0",
            "_model_name": "LayoutModel",
            "_view_count": null,
            "_view_module": "@jupyter-widgets/base",
            "_view_module_version": "1.2.0",
            "_view_name": "LayoutView",
            "align_content": null,
            "align_items": null,
            "align_self": null,
            "border": null,
            "bottom": null,
            "display": null,
            "flex": null,
            "flex_flow": null,
            "grid_area": null,
            "grid_auto_columns": null,
            "grid_auto_flow": null,
            "grid_auto_rows": null,
            "grid_column": null,
            "grid_gap": null,
            "grid_row": null,
            "grid_template_areas": null,
            "grid_template_columns": null,
            "grid_template_rows": null,
            "height": null,
            "justify_content": null,
            "justify_items": null,
            "left": null,
            "margin": null,
            "max_height": null,
            "max_width": null,
            "min_height": null,
            "min_width": null,
            "object_fit": null,
            "object_position": null,
            "order": null,
            "overflow": null,
            "overflow_x": null,
            "overflow_y": null,
            "padding": null,
            "right": null,
            "top": null,
            "visibility": null,
            "width": null
          }
        },
        "007637ea705946e08f3e264be247ee8e": {
          "model_module": "@jupyter-widgets/controls",
          "model_name": "DescriptionStyleModel",
          "model_module_version": "1.5.0",
          "state": {
            "_model_module": "@jupyter-widgets/controls",
            "_model_module_version": "1.5.0",
            "_model_name": "DescriptionStyleModel",
            "_view_count": null,
            "_view_module": "@jupyter-widgets/base",
            "_view_module_version": "1.2.0",
            "_view_name": "StyleView",
            "description_width": ""
          }
        },
        "963e89977c914443b073fed7bdf62ac3": {
          "model_module": "@jupyter-widgets/controls",
          "model_name": "HBoxModel",
          "model_module_version": "1.5.0",
          "state": {
            "_dom_classes": [],
            "_model_module": "@jupyter-widgets/controls",
            "_model_module_version": "1.5.0",
            "_model_name": "HBoxModel",
            "_view_count": null,
            "_view_module": "@jupyter-widgets/controls",
            "_view_module_version": "1.5.0",
            "_view_name": "HBoxView",
            "box_style": "",
            "children": [
              "IPY_MODEL_073366cde61f48b7948100c8c8c75417",
              "IPY_MODEL_1782a887eda44b9eb09732f748f008ea",
              "IPY_MODEL_e61b561ff64d48d8bcfe3fe7e1ee6b48"
            ],
            "layout": "IPY_MODEL_5afd0bca976240549c7d7aefd6bfa247"
          }
        },
        "073366cde61f48b7948100c8c8c75417": {
          "model_module": "@jupyter-widgets/controls",
          "model_name": "HTMLModel",
          "model_module_version": "1.5.0",
          "state": {
            "_dom_classes": [],
            "_model_module": "@jupyter-widgets/controls",
            "_model_module_version": "1.5.0",
            "_model_name": "HTMLModel",
            "_view_count": null,
            "_view_module": "@jupyter-widgets/controls",
            "_view_module_version": "1.5.0",
            "_view_name": "HTMLView",
            "description": "",
            "description_tooltip": null,
            "layout": "IPY_MODEL_bd008cb6fe2b4d1d98d52d6dd60006a6",
            "placeholder": "​",
            "style": "IPY_MODEL_a406f6866ac54956af8c774b1edbe0ea",
            "value": "model.safetensors: 100%"
          }
        },
        "1782a887eda44b9eb09732f748f008ea": {
          "model_module": "@jupyter-widgets/controls",
          "model_name": "FloatProgressModel",
          "model_module_version": "1.5.0",
          "state": {
            "_dom_classes": [],
            "_model_module": "@jupyter-widgets/controls",
            "_model_module_version": "1.5.0",
            "_model_name": "FloatProgressModel",
            "_view_count": null,
            "_view_module": "@jupyter-widgets/controls",
            "_view_module_version": "1.5.0",
            "_view_name": "ProgressView",
            "bar_style": "success",
            "description": "",
            "description_tooltip": null,
            "layout": "IPY_MODEL_67e7e0e72dfd4cffb3479e16dad6325a",
            "max": 440449768,
            "min": 0,
            "orientation": "horizontal",
            "style": "IPY_MODEL_28c2222085d0441a868736af91c50359",
            "value": 440449768
          }
        },
        "e61b561ff64d48d8bcfe3fe7e1ee6b48": {
          "model_module": "@jupyter-widgets/controls",
          "model_name": "HTMLModel",
          "model_module_version": "1.5.0",
          "state": {
            "_dom_classes": [],
            "_model_module": "@jupyter-widgets/controls",
            "_model_module_version": "1.5.0",
            "_model_name": "HTMLModel",
            "_view_count": null,
            "_view_module": "@jupyter-widgets/controls",
            "_view_module_version": "1.5.0",
            "_view_name": "HTMLView",
            "description": "",
            "description_tooltip": null,
            "layout": "IPY_MODEL_e1ee20b501aa4acbbc23cab1909f5672",
            "placeholder": "​",
            "style": "IPY_MODEL_8deb465589184909a5dc0ca5848f8059",
            "value": " 440M/440M [00:02&lt;00:00, 256MB/s]"
          }
        },
        "5afd0bca976240549c7d7aefd6bfa247": {
          "model_module": "@jupyter-widgets/base",
          "model_name": "LayoutModel",
          "model_module_version": "1.2.0",
          "state": {
            "_model_module": "@jupyter-widgets/base",
            "_model_module_version": "1.2.0",
            "_model_name": "LayoutModel",
            "_view_count": null,
            "_view_module": "@jupyter-widgets/base",
            "_view_module_version": "1.2.0",
            "_view_name": "LayoutView",
            "align_content": null,
            "align_items": null,
            "align_self": null,
            "border": null,
            "bottom": null,
            "display": null,
            "flex": null,
            "flex_flow": null,
            "grid_area": null,
            "grid_auto_columns": null,
            "grid_auto_flow": null,
            "grid_auto_rows": null,
            "grid_column": null,
            "grid_gap": null,
            "grid_row": null,
            "grid_template_areas": null,
            "grid_template_columns": null,
            "grid_template_rows": null,
            "height": null,
            "justify_content": null,
            "justify_items": null,
            "left": null,
            "margin": null,
            "max_height": null,
            "max_width": null,
            "min_height": null,
            "min_width": null,
            "object_fit": null,
            "object_position": null,
            "order": null,
            "overflow": null,
            "overflow_x": null,
            "overflow_y": null,
            "padding": null,
            "right": null,
            "top": null,
            "visibility": null,
            "width": null
          }
        },
        "bd008cb6fe2b4d1d98d52d6dd60006a6": {
          "model_module": "@jupyter-widgets/base",
          "model_name": "LayoutModel",
          "model_module_version": "1.2.0",
          "state": {
            "_model_module": "@jupyter-widgets/base",
            "_model_module_version": "1.2.0",
            "_model_name": "LayoutModel",
            "_view_count": null,
            "_view_module": "@jupyter-widgets/base",
            "_view_module_version": "1.2.0",
            "_view_name": "LayoutView",
            "align_content": null,
            "align_items": null,
            "align_self": null,
            "border": null,
            "bottom": null,
            "display": null,
            "flex": null,
            "flex_flow": null,
            "grid_area": null,
            "grid_auto_columns": null,
            "grid_auto_flow": null,
            "grid_auto_rows": null,
            "grid_column": null,
            "grid_gap": null,
            "grid_row": null,
            "grid_template_areas": null,
            "grid_template_columns": null,
            "grid_template_rows": null,
            "height": null,
            "justify_content": null,
            "justify_items": null,
            "left": null,
            "margin": null,
            "max_height": null,
            "max_width": null,
            "min_height": null,
            "min_width": null,
            "object_fit": null,
            "object_position": null,
            "order": null,
            "overflow": null,
            "overflow_x": null,
            "overflow_y": null,
            "padding": null,
            "right": null,
            "top": null,
            "visibility": null,
            "width": null
          }
        },
        "a406f6866ac54956af8c774b1edbe0ea": {
          "model_module": "@jupyter-widgets/controls",
          "model_name": "DescriptionStyleModel",
          "model_module_version": "1.5.0",
          "state": {
            "_model_module": "@jupyter-widgets/controls",
            "_model_module_version": "1.5.0",
            "_model_name": "DescriptionStyleModel",
            "_view_count": null,
            "_view_module": "@jupyter-widgets/base",
            "_view_module_version": "1.2.0",
            "_view_name": "StyleView",
            "description_width": ""
          }
        },
        "67e7e0e72dfd4cffb3479e16dad6325a": {
          "model_module": "@jupyter-widgets/base",
          "model_name": "LayoutModel",
          "model_module_version": "1.2.0",
          "state": {
            "_model_module": "@jupyter-widgets/base",
            "_model_module_version": "1.2.0",
            "_model_name": "LayoutModel",
            "_view_count": null,
            "_view_module": "@jupyter-widgets/base",
            "_view_module_version": "1.2.0",
            "_view_name": "LayoutView",
            "align_content": null,
            "align_items": null,
            "align_self": null,
            "border": null,
            "bottom": null,
            "display": null,
            "flex": null,
            "flex_flow": null,
            "grid_area": null,
            "grid_auto_columns": null,
            "grid_auto_flow": null,
            "grid_auto_rows": null,
            "grid_column": null,
            "grid_gap": null,
            "grid_row": null,
            "grid_template_areas": null,
            "grid_template_columns": null,
            "grid_template_rows": null,
            "height": null,
            "justify_content": null,
            "justify_items": null,
            "left": null,
            "margin": null,
            "max_height": null,
            "max_width": null,
            "min_height": null,
            "min_width": null,
            "object_fit": null,
            "object_position": null,
            "order": null,
            "overflow": null,
            "overflow_x": null,
            "overflow_y": null,
            "padding": null,
            "right": null,
            "top": null,
            "visibility": null,
            "width": null
          }
        },
        "28c2222085d0441a868736af91c50359": {
          "model_module": "@jupyter-widgets/controls",
          "model_name": "ProgressStyleModel",
          "model_module_version": "1.5.0",
          "state": {
            "_model_module": "@jupyter-widgets/controls",
            "_model_module_version": "1.5.0",
            "_model_name": "ProgressStyleModel",
            "_view_count": null,
            "_view_module": "@jupyter-widgets/base",
            "_view_module_version": "1.2.0",
            "_view_name": "StyleView",
            "bar_color": null,
            "description_width": ""
          }
        },
        "e1ee20b501aa4acbbc23cab1909f5672": {
          "model_module": "@jupyter-widgets/base",
          "model_name": "LayoutModel",
          "model_module_version": "1.2.0",
          "state": {
            "_model_module": "@jupyter-widgets/base",
            "_model_module_version": "1.2.0",
            "_model_name": "LayoutModel",
            "_view_count": null,
            "_view_module": "@jupyter-widgets/base",
            "_view_module_version": "1.2.0",
            "_view_name": "LayoutView",
            "align_content": null,
            "align_items": null,
            "align_self": null,
            "border": null,
            "bottom": null,
            "display": null,
            "flex": null,
            "flex_flow": null,
            "grid_area": null,
            "grid_auto_columns": null,
            "grid_auto_flow": null,
            "grid_auto_rows": null,
            "grid_column": null,
            "grid_gap": null,
            "grid_row": null,
            "grid_template_areas": null,
            "grid_template_columns": null,
            "grid_template_rows": null,
            "height": null,
            "justify_content": null,
            "justify_items": null,
            "left": null,
            "margin": null,
            "max_height": null,
            "max_width": null,
            "min_height": null,
            "min_width": null,
            "object_fit": null,
            "object_position": null,
            "order": null,
            "overflow": null,
            "overflow_x": null,
            "overflow_y": null,
            "padding": null,
            "right": null,
            "top": null,
            "visibility": null,
            "width": null
          }
        },
        "8deb465589184909a5dc0ca5848f8059": {
          "model_module": "@jupyter-widgets/controls",
          "model_name": "DescriptionStyleModel",
          "model_module_version": "1.5.0",
          "state": {
            "_model_module": "@jupyter-widgets/controls",
            "_model_module_version": "1.5.0",
            "_model_name": "DescriptionStyleModel",
            "_view_count": null,
            "_view_module": "@jupyter-widgets/base",
            "_view_module_version": "1.2.0",
            "_view_name": "StyleView",
            "description_width": ""
          }
        }
      }
    }
  },
  "nbformat": 4,
  "nbformat_minor": 0
}